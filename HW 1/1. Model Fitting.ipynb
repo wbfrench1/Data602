{
 "cells": [
  {
   "cell_type": "markdown",
   "metadata": {},
   "source": [
    "# Homework 1: Linear Regression\n",
    "\n",
    "<b>The first homework details</b>\n",
    "<p>Recall that the first homework is due to week-4 lecture (09/22).Your task will be applying a linear\n",
    "regression model to a dataset of your choice.</p>\n",
    "\n",
    "<p><b>1.2.1 Directions:</b></p>\n",
    "<ul>\n",
    "    <li>You cannot work with datasets that is explored in our textbooks or in our classes.</li>\n",
    "<li>The Dataset should contain more than 200 observations (rows) and more than 4 columns.</li>\n",
    "<li>Data can be relatively clean but you should be doing the preprocessing procedures on your\n",
    "own.</li>\n",
    "<li>As it is explained in Hands-on Machine Learning with Scikit-Learn, Keras and TensorFlow\n",
    "(2nd edition) chapter-2, you should be able to explain the business goal of your project very\n",
    "clearly.</li>\n",
    "<li>If you are applying a transformation to some of your features you should explain the rationale\n",
    "of such decisions.</li>\n",
    "<li>You should use visualization techniques to explore the data and to support your results.</li>\n",
    "<li>You should be able to assess the model fitness and you should do model diagnosis as it is\n",
    "described in ISLR 3.3.3.</li></ul>\n",
    "<p><b>1.3 Deliverables:</b></p>\n",
    "<p>As I mentioned in the first class, I want you to upload your project into Github and share it with\n",
    "me the github link. Github folder should contain three main ingredient:</p>\n",
    "<ol><li>ReadMe</li>\n",
    "<li>Code + Notebooks</li>\n",
    "<li>Summary + Report.</li></ol>\n"
   ]
  },
  {
   "cell_type": "markdown",
   "metadata": {},
   "source": [
    "# Stock Market Prediction from Economic Indicators\n",
    "<p>Goal</p>\n",
    "<p>Predict stock market values using linear regression on several economic indicators (PPI, CPI, Oil Prices, Gold Prices, CCI).</p>"
   ]
  },
  {
   "cell_type": "markdown",
   "metadata": {},
   "source": [
    "### Model Fitting\n",
    "\n",
    "<ol><li>Input each data set into a dataframe</li>\n",
    "    <li>Separate the data into training/test sets</li>\n",
    "    <li>Run the OLE model on the data</li>\n",
    "    <li>OLE model analysis</li>\n",
    "    <li>Backward Selection</li>\n",
    "    <li>Investigate Potential Errors</li>\n",
    "    </ol>\n"
   ]
  },
  {
   "cell_type": "code",
   "execution_count": 1,
   "metadata": {},
   "outputs": [],
   "source": [
    "import os\n",
    "import pandas as pd\n",
    "import matplotlib.pyplot as plt \n",
    "from sklearn.model_selection import train_test_split\n",
    "import statsmodels.api as sm\n",
    "import numpy as np\n",
    "from statsmodels.stats.outliers_influence import variance_inflation_factor           #https://etav.github.io/python/vif_factor_python.html"
   ]
  },
  {
   "cell_type": "markdown",
   "metadata": {},
   "source": [
    "### 1.) Input each data set into a dataframe"
   ]
  },
  {
   "cell_type": "code",
   "execution_count": 2,
   "metadata": {},
   "outputs": [],
   "source": [
    "#get project data\n",
    "df_data = pd.read_csv('p1_procesed_data.csv')"
   ]
  },
  {
   "cell_type": "markdown",
   "metadata": {},
   "source": [
    "### 2.) Separate the data into training/test sets"
   ]
  },
  {
   "cell_type": "code",
   "execution_count": 3,
   "metadata": {},
   "outputs": [],
   "source": [
    "#from Murat Guner Linear Regression.ipynb\n",
    "#split the data into training and test data sets\n",
    "df_xtrain, df_xtest = train_test_split(df_data,test_size = .2)"
   ]
  },
  {
   "cell_type": "code",
   "execution_count": 4,
   "metadata": {},
   "outputs": [
    {
     "name": "stdout",
     "output_type": "stream",
     "text": [
      "df_data shape: (236, 8)\n",
      "df_xtrain shape: (188, 8)\n",
      "df_xtest shape: (48, 8)\n"
     ]
    }
   ],
   "source": [
    "#confirm the division of data\n",
    "print('df_data shape:',df_data.shape)\n",
    "print('df_xtrain shape:',df_xtrain.shape)\n",
    "print('df_xtest shape:',df_xtest.shape)"
   ]
  },
  {
   "cell_type": "code",
   "execution_count": 5,
   "metadata": {},
   "outputs": [
    {
     "data": {
      "text/plain": [
       "[<matplotlib.lines.Line2D at 0x147fb570>]"
      ]
     },
     "execution_count": 5,
     "metadata": {},
     "output_type": "execute_result"
    },
    {
     "data": {
      "image/png": "[encoded data removed]",
      "text/plain": [
       "<Figure size 432x288 with 1 Axes>"
      ]
     },
     "metadata": {
      "needs_background": "light"
     },
     "output_type": "display_data"
    }
   ],
   "source": [
    "plt.plot(df_data['Date'],df_data['van500'])"
   ]
  },
  {
   "cell_type": "code",
   "execution_count": 6,
   "metadata": {},
   "outputs": [
    {
     "data": {
      "text/plain": [
       "Index(['Unnamed: 0', 'Date', 'cci', 'poilbre', 'pgold', 'cpi', 'ppi',\n",
       "       'van500'],\n",
       "      dtype='object')"
      ]
     },
     "execution_count": 6,
     "metadata": {},
     "output_type": "execute_result"
    }
   ],
   "source": [
    "df_xtrain.columns"
   ]
  },
  {
   "cell_type": "code",
   "execution_count": 7,
   "metadata": {},
   "outputs": [
    {
     "data": {
      "text/html": [
       "<div>\n",
       "<style scoped>\n",
       "    .dataframe tbody tr th:only-of-type {\n",
       "        vertical-align: middle;\n",
       "    }\n",
       "\n",
       "    .dataframe tbody tr th {\n",
       "        vertical-align: top;\n",
       "    }\n",
       "\n",
       "    .dataframe thead th {\n",
       "        text-align: right;\n",
       "    }\n",
       "</style>\n",
       "<table border=\"1\" class=\"dataframe\">\n",
       "  <thead>\n",
       "    <tr style=\"text-align: right;\">\n",
       "      <th></th>\n",
       "      <th>Unnamed: 0</th>\n",
       "      <th>Date</th>\n",
       "      <th>cci</th>\n",
       "      <th>poilbre</th>\n",
       "      <th>pgold</th>\n",
       "      <th>cpi</th>\n",
       "      <th>ppi</th>\n",
       "      <th>van500</th>\n",
       "    </tr>\n",
       "  </thead>\n",
       "  <tbody>\n",
       "    <tr>\n",
       "      <th>63</th>\n",
       "      <td>63</td>\n",
       "      <td>2006-04-01</td>\n",
       "      <td>99.8595</td>\n",
       "      <td>70.432500</td>\n",
       "      <td>610.652778</td>\n",
       "      <td>200.700</td>\n",
       "      <td>133.3</td>\n",
       "      <td>90.057884</td>\n",
       "    </tr>\n",
       "    <tr>\n",
       "      <th>50</th>\n",
       "      <td>50</td>\n",
       "      <td>2005-03-01</td>\n",
       "      <td>100.6208</td>\n",
       "      <td>53.072609</td>\n",
       "      <td>434.321429</td>\n",
       "      <td>193.100</td>\n",
       "      <td>119.9</td>\n",
       "      <td>79.238449</td>\n",
       "    </tr>\n",
       "    <tr>\n",
       "      <th>158</th>\n",
       "      <td>158</td>\n",
       "      <td>2014-03-01</td>\n",
       "      <td>99.3655</td>\n",
       "      <td>107.405714</td>\n",
       "      <td>1336.083333</td>\n",
       "      <td>236.028</td>\n",
       "      <td>186.0</td>\n",
       "      <td>151.760544</td>\n",
       "    </tr>\n",
       "    <tr>\n",
       "      <th>227</th>\n",
       "      <td>227</td>\n",
       "      <td>2019-12-01</td>\n",
       "      <td>101.5774</td>\n",
       "      <td>65.854545</td>\n",
       "      <td>1476.044444</td>\n",
       "      <td>258.444</td>\n",
       "      <td>198.8</td>\n",
       "      <td>293.948669</td>\n",
       "    </tr>\n",
       "    <tr>\n",
       "      <th>170</th>\n",
       "      <td>170</td>\n",
       "      <td>2015-03-01</td>\n",
       "      <td>101.0004</td>\n",
       "      <td>55.791364</td>\n",
       "      <td>1178.629545</td>\n",
       "      <td>235.976</td>\n",
       "      <td>179.7</td>\n",
       "      <td>170.949371</td>\n",
       "    </tr>\n",
       "  </tbody>\n",
       "</table>\n",
       "</div>"
      ],
      "text/plain": [
       "     Unnamed: 0        Date       cci     poilbre        pgold      cpi  \\\n",
       "63           63  2006-04-01   99.8595   70.432500   610.652778  200.700   \n",
       "50           50  2005-03-01  100.6208   53.072609   434.321429  193.100   \n",
       "158         158  2014-03-01   99.3655  107.405714  1336.083333  236.028   \n",
       "227         227  2019-12-01  101.5774   65.854545  1476.044444  258.444   \n",
       "170         170  2015-03-01  101.0004   55.791364  1178.629545  235.976   \n",
       "\n",
       "       ppi      van500  \n",
       "63   133.3   90.057884  \n",
       "50   119.9   79.238449  \n",
       "158  186.0  151.760544  \n",
       "227  198.8  293.948669  \n",
       "170  179.7  170.949371  "
      ]
     },
     "execution_count": 7,
     "metadata": {},
     "output_type": "execute_result"
    }
   ],
   "source": [
    "df_xtrain.head()"
   ]
  },
  {
   "cell_type": "markdown",
   "metadata": {},
   "source": [
    "### 3.) Run the OLE model on the data"
   ]
  },
  {
   "cell_type": "code",
   "execution_count": 8,
   "metadata": {},
   "outputs": [
    {
     "name": "stdout",
     "output_type": "stream",
     "text": [
      "                            OLS Regression Results                            \n",
      "==============================================================================\n",
      "Dep. Variable:                 van500   R-squared:                       0.920\n",
      "Model:                            OLS   Adj. R-squared:                  0.918\n",
      "Method:                 Least Squares   F-statistic:                     419.7\n",
      "Date:                Tue, 22 Sep 2020   Prob (F-statistic):           7.19e-98\n",
      "Time:                        04:49:11   Log-Likelihood:                -818.99\n",
      "No. Observations:                 188   AIC:                             1650.\n",
      "Df Residuals:                     182   BIC:                             1669.\n",
      "Df Model:                           5                                         \n",
      "Covariance Type:            nonrobust                                         \n",
      "==============================================================================\n",
      "                 coef    std err          t      P>|t|      [0.025      0.975]\n",
      "------------------------------------------------------------------------------\n",
      "const      -1625.9120    138.142    -11.770      0.000   -1898.478   -1353.346\n",
      "cci           11.0703      1.443      7.669      0.000       8.222      13.918\n",
      "poilbre       -0.3146      0.088     -3.582      0.000      -0.488      -0.141\n",
      "pgold         -0.0164      0.009     -1.817      0.071      -0.034       0.001\n",
      "cpi            3.6600      0.482      7.597      0.000       2.709       4.611\n",
      "ppi           -0.7226      0.407     -1.776      0.077      -1.525       0.080\n",
      "==============================================================================\n",
      "Omnibus:                       65.454   Durbin-Watson:                   1.903\n",
      "Prob(Omnibus):                  0.000   Jarque-Bera (JB):              245.085\n",
      "Skew:                           1.334   Prob(JB):                     6.03e-54\n",
      "Kurtosis:                       7.917   Cond. No.                     1.13e+05\n",
      "==============================================================================\n",
      "\n",
      "Warnings:\n",
      "[1] Standard Errors assume that the covariance matrix of the errors is correctly specified.\n",
      "[2] The condition number is large, 1.13e+05. This might indicate that there are\n",
      "strong multicollinearity or other numerical problems.\n"
     ]
    }
   ],
   "source": [
    "#from Murat Guner Linear Regression.ipynb\n",
    "X = df_xtrain[['cci', 'poilbre', 'pgold','cpi','ppi']]\n",
    "y = df_xtrain.van500\n",
    "X = sm.add_constant(X)\n",
    "mod = sm.OLS(y, X, hasconst= True)\n",
    "res = mod.fit()\n",
    "print(res.summary())"
   ]
  },
  {
   "cell_type": "markdown",
   "metadata": {},
   "source": [
    "#### 4.) OLE Model Analysis"
   ]
  },
  {
   "cell_type": "markdown",
   "metadata": {},
   "source": [
    "#### Question: Is there a Relationship between the response and the predictors?\n",
    "\n",
    "To determine whether there is a relationship between the repsonse and the predictors, we  use a hypothesis test, asking:\n",
    "\\begin{align}\n",
    "\\beta_{1}=\\beta_{2}=\\beta_{3}=\\beta_{4}=\\beta_{5}=0\n",
    "\\end{align}\n",
    "<p>The test is run by calculating the F-statistic.  If the resulting statistic is greater than 1 the null hypothesis is rejected and there is at least one predictor that is related to the value of the vanguard 500.  In the OLS Regression results above the F-statistic is 391.</p>  Therefore at least one predictor is related to the response variable."
   ]
  },
  {
   "cell_type": "markdown",
   "metadata": {},
   "source": [
    "Which variables are important? (Feature Engineering)\n",
    "\n",
    "Of the five predictors, two have values that are less significant than they others: pgold and ppi.  I will perform backwards selection an remove the pgold variable and assess the effect on the model.  I will use p>=3 as my stop rule. "
   ]
  },
  {
   "cell_type": "markdown",
   "metadata": {},
   "source": [
    "### 5.) Backward Selection"
   ]
  },
  {
   "cell_type": "markdown",
   "metadata": {},
   "source": [
    "#### Drop the pgold variable"
   ]
  },
  {
   "cell_type": "code",
   "execution_count": 9,
   "metadata": {},
   "outputs": [],
   "source": [
    "df_data.drop(columns='pgold', inplace =True)"
   ]
  },
  {
   "cell_type": "code",
   "execution_count": 10,
   "metadata": {},
   "outputs": [
    {
     "name": "stdout",
     "output_type": "stream",
     "text": [
      "                            OLS Regression Results                            \n",
      "==============================================================================\n",
      "Dep. Variable:                 van500   R-squared:                       0.920\n",
      "Model:                            OLS   Adj. R-squared:                  0.919\n",
      "Method:                 Least Squares   F-statistic:                     528.6\n",
      "Date:                Tue, 22 Sep 2020   Prob (F-statistic):           2.47e-99\n",
      "Time:                        04:49:11   Log-Likelihood:                -813.75\n",
      "No. Observations:                 188   AIC:                             1638.\n",
      "Df Residuals:                     183   BIC:                             1654.\n",
      "Df Model:                           4                                         \n",
      "Covariance Type:            nonrobust                                         \n",
      "==============================================================================\n",
      "                 coef    std err          t      P>|t|      [0.025      0.975]\n",
      "------------------------------------------------------------------------------\n",
      "const      -1789.5015    127.907    -13.991      0.000   -2041.863   -1537.140\n",
      "cci           13.0416      1.252     10.416      0.000      10.571      15.512\n",
      "poilbre       -0.3294      0.092     -3.569      0.000      -0.512      -0.147\n",
      "cpi            3.5181      0.484      7.268      0.000       2.563       4.473\n",
      "ppi           -0.8329      0.412     -2.020      0.045      -1.646      -0.020\n",
      "==============================================================================\n",
      "Omnibus:                       61.790   Durbin-Watson:                   2.143\n",
      "Prob(Omnibus):                  0.000   Jarque-Bera (JB):              189.008\n",
      "Skew:                           1.335   Prob(JB):                     9.06e-42\n",
      "Kurtosis:                       7.123   Cond. No.                     2.79e+04\n",
      "==============================================================================\n",
      "\n",
      "Warnings:\n",
      "[1] Standard Errors assume that the covariance matrix of the errors is correctly specified.\n",
      "[2] The condition number is large, 2.79e+04. This might indicate that there are\n",
      "strong multicollinearity or other numerical problems.\n"
     ]
    }
   ],
   "source": [
    "df_xtrain, df_xtest = train_test_split(df_data,test_size = .2)\n",
    "X = df_xtrain[['cci', 'poilbre', 'cpi','ppi']]\n",
    "y = df_xtrain.van500\n",
    "X = sm.add_constant(X)\n",
    "mod = sm.OLS(y, X, hasconst= True)\n",
    "res = mod.fit()\n",
    "print(res.summary())"
   ]
  },
  {
   "cell_type": "markdown",
   "metadata": {},
   "source": [
    "#### Backward Selection Analysis (dropping pgold)\n",
    "\n",
    "<p> Dropping pgold seems to have been effective.  R-squared increased from .922 to .924, which I will read as no change.  The F-statistic increased from 430 to 537, meaning my predictors are still related to the reponse variable.  The p-value of ppi has increased from 0.067 to 0.432.  I will continue with backwards selection.  I will continue to use p>=3 as my stop rule. "
   ]
  },
  {
   "cell_type": "markdown",
   "metadata": {},
   "source": [
    "#### Drop the ppi variable"
   ]
  },
  {
   "cell_type": "code",
   "execution_count": 11,
   "metadata": {},
   "outputs": [],
   "source": [
    "df_data.drop(columns='ppi', inplace =True)"
   ]
  },
  {
   "cell_type": "code",
   "execution_count": 12,
   "metadata": {},
   "outputs": [
    {
     "name": "stdout",
     "output_type": "stream",
     "text": [
      "                            OLS Regression Results                            \n",
      "==============================================================================\n",
      "Dep. Variable:                 van500   R-squared:                       0.912\n",
      "Model:                            OLS   Adj. R-squared:                  0.911\n",
      "Method:                 Least Squares   F-statistic:                     635.4\n",
      "Date:                Tue, 22 Sep 2020   Prob (F-statistic):           8.34e-97\n",
      "Time:                        04:49:11   Log-Likelihood:                -818.57\n",
      "No. Observations:                 188   AIC:                             1645.\n",
      "Df Residuals:                     184   BIC:                             1658.\n",
      "Df Model:                           3                                         \n",
      "Covariance Type:            nonrobust                                         \n",
      "==============================================================================\n",
      "                 coef    std err          t      P>|t|      [0.025      0.975]\n",
      "------------------------------------------------------------------------------\n",
      "const      -1477.2303    134.234    -11.005      0.000   -1742.065   -1212.395\n",
      "cci           10.9092      1.364      8.001      0.000       8.219      13.599\n",
      "poilbre       -0.5363      0.067     -7.997      0.000      -0.669      -0.404\n",
      "cpi            2.5328      0.068     37.326      0.000       2.399       2.667\n",
      "==============================================================================\n",
      "Omnibus:                       55.295   Durbin-Watson:                   1.845\n",
      "Prob(Omnibus):                  0.000   Jarque-Bera (JB):              163.687\n",
      "Skew:                           1.197   Prob(JB):                     2.86e-36\n",
      "Kurtosis:                       6.895   Cond. No.                     2.41e+04\n",
      "==============================================================================\n",
      "\n",
      "Warnings:\n",
      "[1] Standard Errors assume that the covariance matrix of the errors is correctly specified.\n",
      "[2] The condition number is large, 2.41e+04. This might indicate that there are\n",
      "strong multicollinearity or other numerical problems.\n"
     ]
    }
   ],
   "source": [
    "df_xtrain, df_xtest = train_test_split(df_data,test_size = .2)\n",
    "X = df_xtrain[['cci', 'poilbre', 'cpi']]\n",
    "y = df_xtrain.van500\n",
    "X = sm.add_constant(X)\n",
    "mod = sm.OLS(y, X, hasconst= True)\n",
    "res = mod.fit()\n",
    "print(res.summary())"
   ]
  },
  {
   "cell_type": "markdown",
   "metadata": {},
   "source": [
    "#### Backward Selection Analysis (droping ppi)\n",
    "\n",
    "<p> Dropping ppi was effective.  While R-squared decreased from .924 to .911, the change is small and R-squared is affected by then number of predictors regardless of the predictive ability.  Therefore I will read the decrease in p-value as no change.  The F-statistic further increased from 537 to 629, meaning my predictors are still related to the reponse variable.  The p-value of the remaining predictors is tiny, suggesting they are statistically significant."
   ]
  },
  {
   "cell_type": "code",
   "execution_count": 18,
   "metadata": {},
   "outputs": [],
   "source": [
    "#from Murat Guner Linear Regression.ipynb\n",
    "Xtest = df_xtest[['cci', 'poilbre', 'cpi']]\n",
    "ytest = df_xtest.van500\n",
    "Xtest = sm.add_constant(Xtest)\n",
    "\n",
    "res.predict(Xtest);"
   ]
  },
  {
   "cell_type": "markdown",
   "metadata": {},
   "source": [
    "### 6.) Investigate Potential Errors: \n",
    "#### Data Linearity, Error Constancy, Outliers, and High Leverage Points\n",
    "\n",
    "The residuals plots pairs predicted values with corresponding residuals and can be used to provide evidence concerning <b>data linearity</b>, <b>error constancy</b>, <b>outliers</b>, and <b>high leverage points.</b>  \n",
    "\n",
    "##### Data Linearity:\n",
    "<p>A core assumption of the linear regression model is that there is a linear relationship between the predictors and the response.  If this assumption holds, there should be little to no discernible pattern in the residuals plot.  Reviewing the plot below suggests that there is a weak cosine-like pattern to the residuals, challegning the assumption of linearity.</p>\n",
    "\n",
    "##### Error Constancy\n",
    "<p>A second assumption in the linear regression model is that the error terms have a constant variance.  If this assumption holds the error terms should have no discernible pattern.  The same observation concerning the cosine-like pattern applies here as well.  However, it appears that this pattern speaks more to the non-linear nature of the model than to a pattern in the error terms.</p>\n",
    "\n",
    "##### Outliers\n",
    "<p>There are four clear outliers in the data that should be removed, and the model re-run.</p>\n",
    "\n",
    "##### High Leverage Points\n",
    "<p>High leverage points occur when one or more predictors have unsual values.  There are no high leverage points in the data.</p>"
   ]
  },
  {
   "cell_type": "code",
   "execution_count": 14,
   "metadata": {},
   "outputs": [
    {
     "data": {
      "image/png": "[encoded data removed]",
      "text/plain": [
       "<Figure size 432x288 with 1 Axes>"
      ]
     },
     "metadata": {
      "needs_background": "light"
     },
     "output_type": "display_data"
    }
   ],
   "source": [
    "#from Murat Guner Linear Regression.ipynb\n",
    "residuals = res.resid\n",
    "\n",
    "y_pred = res.predict(X)\n",
    "plt.scatter(y_pred, residuals)\n",
    "plt.axhline(y=0, color = 'red', label = '0')\n",
    "\n",
    "plt.xlabel('predicted values')\n",
    "\n",
    "plt.ylabel('residuals')\n",
    "\n",
    "plt.tight_layout()"
   ]
  },
  {
   "cell_type": "raw",
   "metadata": {},
   "source": [
    "for i in range(2,df_xtrain.shape[1]-1):\n",
    "    print(i)\n",
    "    df_xtrain.iloc[:,i] = np.cos(df_xtrain.iloc[:,i])\n"
   ]
  },
  {
   "cell_type": "markdown",
   "metadata": {},
   "source": [
    "#### Non-Correlation of Error Terms\n",
    "\n",
    "<p>The linear regression model assumes that the error terms are uncorrelated (i.e. one error term provides no information on the adjacent terms).  If this is true a plot of the residuals across time should appear random.  The below plot of residuals against time provides evidence that the error terms are uncorrlated.</p>"
   ]
  },
  {
   "cell_type": "code",
   "execution_count": 15,
   "metadata": {},
   "outputs": [
    {
     "data": {
      "image/png": "[encoded data removed]",
      "text/plain": [
       "<Figure size 432x288 with 1 Axes>"
      ]
     },
     "metadata": {
      "needs_background": "light"
     },
     "output_type": "display_data"
    }
   ],
   "source": [
    "time = df_xtrain['Date']\n",
    "residuals = res.resid\n",
    "\n",
    "\n",
    "plt.scatter(time, residuals)\n",
    "plt.axhline(y=0, color = 'red', label = '0')\n",
    "\n",
    "plt.xlabel('time')\n",
    "\n",
    "plt.ylabel('residuals')\n",
    "\n",
    "plt.tight_layout()"
   ]
  },
  {
   "cell_type": "markdown",
   "metadata": {},
   "source": [
    "#### Multicollinearity \n",
    "\n",
    "<p>Multicollinearity occurs when two or more variables are highly correlated.  A good method for testing for multicollinearity is to use the Variance Inflation Factor (VIF).  Values close to 1 suggest a small amount of collinearity among the variables.  The one term that exceeds the threshold of a 5 to 10 VIF value is the constant term and should be ignored.  The predictors all have values near 1 and therefore there is only a small amount of collinearity in the data.</p>\n"
   ]
  },
  {
   "cell_type": "code",
   "execution_count": 16,
   "metadata": {},
   "outputs": [
    {
     "data": {
      "text/plain": [
       "[9356.525086665191, 1.7483923041162504, 2.210607095033285, 1.4422311127455265]"
      ]
     },
     "execution_count": 16,
     "metadata": {},
     "output_type": "execute_result"
    }
   ],
   "source": [
    "# https://stackoverflow.com/questions/42258241/vif-by-coef-in-ols-regression-results-pythonvariables = res.model.exog\n",
    "variables = res.model.exog\n",
    "vif = [variance_inflation_factor(variables, i) for i in range(variables.shape[1])]\n",
    "vif "
   ]
  },
  {
   "cell_type": "code",
   "execution_count": null,
   "metadata": {},
   "outputs": [],
   "source": []
  }
 ],
 "metadata": {
  "kernelspec": {
   "display_name": "Python 3",
   "language": "python",
   "name": "python3"
  },
  "language_info": {
   "codemirror_mode": {
    "name": "ipython",
    "version": 3
   },
   "file_extension": ".py",
   "mimetype": "text/x-python",
   "name": "python",
   "nbconvert_exporter": "python",
   "pygments_lexer": "ipython3",
   "version": "3.7.3"
  }
 },
 "nbformat": 4,
 "nbformat_minor": 4
}

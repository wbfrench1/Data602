{
 "cells": [
  {
   "cell_type": "markdown",
   "metadata": {},
   "source": [
    "# Stock Market Prediction from Economic Indicators\n",
    "<p>Goal</p>\n",
    "<p>Predict stock market values using linear regression on several economic indicators (PPI, CPI, Oil Prices, Gold Prices, CCI).</p>"
   ]
  },
  {
   "cell_type": "markdown",
   "metadata": {},
   "source": [
    "### Model Fitting\n",
    "\n",
    "<ol><li>Input each data set into a dataframe</li>\n",
    "    <li>Separate the data into training/test sets</li>\n",
    "    <li>Run the OLE model on the data</li>\n",
    "    <li>OLE model analysis</li>\n",
    "    <li>Backward Selection</li>\n",
    "    <li>Investigate Potential Errors</li>\n",
    "    </ol>\n"
   ]
  },
  {
   "cell_type": "code",
   "execution_count": 1,
   "metadata": {},
   "outputs": [],
   "source": [
    "import os\n",
    "import pandas as pd\n",
    "import matplotlib.pyplot as plt \n",
    "from sklearn.model_selection import train_test_split\n",
    "import statsmodels.api as sm\n",
    "import numpy as np\n",
    "from statsmodels.stats.outliers_influence import variance_inflation_factor           #https://etav.github.io/python/vif_factor_python.html"
   ]
  },
  {
   "cell_type": "markdown",
   "metadata": {},
   "source": [
    "### 1.) Input each data set into a dataframe"
   ]
  },
  {
   "cell_type": "code",
   "execution_count": 2,
   "metadata": {},
   "outputs": [],
   "source": [
    "#get project data\n",
    "df_data = pd.read_csv('p1_procesed_data.csv')"
   ]
  },
  {
   "cell_type": "markdown",
   "metadata": {},
   "source": [
    "### 2.) Separate the data into training/test sets"
   ]
  },
  {
   "cell_type": "code",
   "execution_count": 3,
   "metadata": {},
   "outputs": [],
   "source": [
    "#from Murat Guner Linear Regression.ipynb\n",
    "#split the data into training and test data sets\n",
    "df_xtrain, df_xtest = train_test_split(df_data,test_size = .2)"
   ]
  },
  {
   "cell_type": "code",
   "execution_count": 4,
   "metadata": {},
   "outputs": [
    {
     "name": "stdout",
     "output_type": "stream",
     "text": [
      "df_data shape: (236, 8)\n",
      "df_xtrain shape: (188, 8)\n",
      "df_xtest shape: (48, 8)\n"
     ]
    }
   ],
   "source": [
    "#confirm the division of data\n",
    "print('df_data shape:',df_data.shape)\n",
    "print('df_xtrain shape:',df_xtrain.shape)\n",
    "print('df_xtest shape:',df_xtest.shape)"
   ]
  },
  {
   "cell_type": "code",
   "execution_count": 5,
   "metadata": {},
   "outputs": [
    {
     "data": {
      "text/plain": [
       "[<matplotlib.lines.Line2D at 0x12ebb530>]"
      ]
     },
     "execution_count": 5,
     "metadata": {},
     "output_type": "execute_result"
    },
    {
     "data": {
      "image/png": "[encoded data removed]",
      "text/plain": [
       "<Figure size 432x288 with 1 Axes>"
      ]
     },
     "metadata": {
      "needs_background": "light"
     },
     "output_type": "display_data"
    }
   ],
   "source": [
    "plt.plot(df_data['Date'],df_data['van500'])"
   ]
  },
  {
   "cell_type": "code",
   "execution_count": 6,
   "metadata": {},
   "outputs": [
    {
     "data": {
      "text/plain": [
       "Index(['Unnamed: 0', 'Date', 'cci', 'poilbre', 'pgold', 'cpi', 'ppi',\n",
       "       'van500'],\n",
       "      dtype='object')"
      ]
     },
     "execution_count": 6,
     "metadata": {},
     "output_type": "execute_result"
    }
   ],
   "source": [
    "df_xtrain.columns"
   ]
  },
  {
   "cell_type": "code",
   "execution_count": 7,
   "metadata": {},
   "outputs": [
    {
     "data": {
      "text/html": [
       "<div>\n",
       "<style scoped>\n",
       "    .dataframe tbody tr th:only-of-type {\n",
       "        vertical-align: middle;\n",
       "    }\n",
       "\n",
       "    .dataframe tbody tr th {\n",
       "        vertical-align: top;\n",
       "    }\n",
       "\n",
       "    .dataframe thead th {\n",
       "        text-align: right;\n",
       "    }\n",
       "</style>\n",
       "<table border=\"1\" class=\"dataframe\">\n",
       "  <thead>\n",
       "    <tr style=\"text-align: right;\">\n",
       "      <th></th>\n",
       "      <th>Unnamed: 0</th>\n",
       "      <th>Date</th>\n",
       "      <th>cci</th>\n",
       "      <th>poilbre</th>\n",
       "      <th>pgold</th>\n",
       "      <th>cpi</th>\n",
       "      <th>ppi</th>\n",
       "      <th>van500</th>\n",
       "    </tr>\n",
       "  </thead>\n",
       "  <tbody>\n",
       "    <tr>\n",
       "      <th>183</th>\n",
       "      <td>183</td>\n",
       "      <td>2016-04-01</td>\n",
       "      <td>100.57800</td>\n",
       "      <td>42.247619</td>\n",
       "      <td>1242.261905</td>\n",
       "      <td>238.835</td>\n",
       "      <td>173.6</td>\n",
       "      <td>175.496582</td>\n",
       "    </tr>\n",
       "    <tr>\n",
       "      <th>220</th>\n",
       "      <td>220</td>\n",
       "      <td>2019-05-01</td>\n",
       "      <td>101.49760</td>\n",
       "      <td>70.526522</td>\n",
       "      <td>1283.947619</td>\n",
       "      <td>255.167</td>\n",
       "      <td>198.5</td>\n",
       "      <td>248.792465</td>\n",
       "    </tr>\n",
       "    <tr>\n",
       "      <th>63</th>\n",
       "      <td>63</td>\n",
       "      <td>2006-04-01</td>\n",
       "      <td>99.85950</td>\n",
       "      <td>70.432500</td>\n",
       "      <td>610.652778</td>\n",
       "      <td>200.700</td>\n",
       "      <td>133.3</td>\n",
       "      <td>90.057884</td>\n",
       "    </tr>\n",
       "    <tr>\n",
       "      <th>88</th>\n",
       "      <td>88</td>\n",
       "      <td>2008-05-01</td>\n",
       "      <td>96.65824</td>\n",
       "      <td>123.494545</td>\n",
       "      <td>888.662500</td>\n",
       "      <td>215.208</td>\n",
       "      <td>156.4</td>\n",
       "      <td>100.131546</td>\n",
       "    </tr>\n",
       "    <tr>\n",
       "      <th>126</th>\n",
       "      <td>126</td>\n",
       "      <td>2011-07-01</td>\n",
       "      <td>97.11068</td>\n",
       "      <td>116.460952</td>\n",
       "      <td>1572.809524</td>\n",
       "      <td>225.395</td>\n",
       "      <td>173.2</td>\n",
       "      <td>99.292946</td>\n",
       "    </tr>\n",
       "  </tbody>\n",
       "</table>\n",
       "</div>"
      ],
      "text/plain": [
       "     Unnamed: 0        Date        cci     poilbre        pgold      cpi  \\\n",
       "183         183  2016-04-01  100.57800   42.247619  1242.261905  238.835   \n",
       "220         220  2019-05-01  101.49760   70.526522  1283.947619  255.167   \n",
       "63           63  2006-04-01   99.85950   70.432500   610.652778  200.700   \n",
       "88           88  2008-05-01   96.65824  123.494545   888.662500  215.208   \n",
       "126         126  2011-07-01   97.11068  116.460952  1572.809524  225.395   \n",
       "\n",
       "       ppi      van500  \n",
       "183  173.6  175.496582  \n",
       "220  198.5  248.792465  \n",
       "63   133.3   90.057884  \n",
       "88   156.4  100.131546  \n",
       "126  173.2   99.292946  "
      ]
     },
     "execution_count": 7,
     "metadata": {},
     "output_type": "execute_result"
    }
   ],
   "source": [
    "df_xtrain.head()"
   ]
  },
  {
   "cell_type": "markdown",
   "metadata": {},
   "source": [
    "### 3.) Run the OLE model on the data"
   ]
  },
  {
   "cell_type": "code",
   "execution_count": 8,
   "metadata": {},
   "outputs": [
    {
     "name": "stdout",
     "output_type": "stream",
     "text": [
      "                            OLS Regression Results                            \n",
      "==============================================================================\n",
      "Dep. Variable:                 van500   R-squared:                       0.916\n",
      "Model:                            OLS   Adj. R-squared:                  0.914\n",
      "Method:                 Least Squares   F-statistic:                     397.3\n",
      "Date:                Mon, 21 Sep 2020   Prob (F-statistic):           6.99e-96\n",
      "Time:                        20:41:17   Log-Likelihood:                -821.55\n",
      "No. Observations:                 188   AIC:                             1655.\n",
      "Df Residuals:                     182   BIC:                             1675.\n",
      "Df Model:                           5                                         \n",
      "Covariance Type:            nonrobust                                         \n",
      "==============================================================================\n",
      "                 coef    std err          t      P>|t|      [0.025      0.975]\n",
      "------------------------------------------------------------------------------\n",
      "const      -1586.4296    143.702    -11.040      0.000   -1869.965   -1302.894\n",
      "cci           10.9600      1.474      7.436      0.000       8.052      13.868\n",
      "poilbre       -0.3605      0.095     -3.787      0.000      -0.548      -0.173\n",
      "pgold         -0.0155      0.009     -1.706      0.090      -0.033       0.002\n",
      "cpi            3.4080      0.497      6.855      0.000       2.427       4.389\n",
      "ppi           -0.5358      0.425     -1.259      0.210      -1.375       0.304\n",
      "==============================================================================\n",
      "Omnibus:                       63.604   Durbin-Watson:                   1.822\n",
      "Prob(Omnibus):                  0.000   Jarque-Bera (JB):              216.545\n",
      "Skew:                           1.331   Prob(JB):                     9.50e-48\n",
      "Kurtosis:                       7.534   Cond. No.                     1.16e+05\n",
      "==============================================================================\n",
      "\n",
      "Warnings:\n",
      "[1] Standard Errors assume that the covariance matrix of the errors is correctly specified.\n",
      "[2] The condition number is large, 1.16e+05. This might indicate that there are\n",
      "strong multicollinearity or other numerical problems.\n"
     ]
    }
   ],
   "source": [
    "#from Murat Guner Linear Regression.ipynb\n",
    "X = df_xtrain[['cci', 'poilbre', 'pgold','cpi','ppi']]\n",
    "y = df_xtrain.van500\n",
    "X = sm.add_constant(X)\n",
    "mod = sm.OLS(y, X, hasconst= True)\n",
    "res = mod.fit()\n",
    "print(res.summary())"
   ]
  },
  {
   "cell_type": "markdown",
   "metadata": {},
   "source": [
    "#### 4.) OLE Model Analysis"
   ]
  },
  {
   "cell_type": "markdown",
   "metadata": {},
   "source": [
    "#### Question: Is there a Relationship between the response and the predictors?\n",
    "\n",
    "To determine whether there is a relationship between the repsonse and the predictors, we  use a hypothesis test, asking:\n",
    "\\begin{align}\n",
    "\\beta_{1}=\\beta_{2}=\\beta_{3}=\\beta_{4}=\\beta_{5}=0\n",
    "\\end{align}\n",
    "<p>The test is run by calculating the F-statistic.  If the resulting statistic is greater than 1 the null hypothesis is rejected and there is at least one predictor that is related to the value of the vanguard 500.  In the OLS Regression results above the F-statistic is 391.</p>  Therefore at least one predictor is related to the response variable."
   ]
  },
  {
   "cell_type": "markdown",
   "metadata": {},
   "source": [
    "Which variables are important? (Feature Engineering)\n",
    "\n",
    "Of the five predictors, two have values that are less significant than they others: pgold and ppi.  I will perform backwards selection an remove the pgold variable and assess the effect on the model.  I will use p>=3 as my stop rule. "
   ]
  },
  {
   "cell_type": "markdown",
   "metadata": {},
   "source": [
    "### 5.) Backward Selection"
   ]
  },
  {
   "cell_type": "markdown",
   "metadata": {},
   "source": [
    "#### Drop the pgold variable"
   ]
  },
  {
   "cell_type": "code",
   "execution_count": 9,
   "metadata": {},
   "outputs": [],
   "source": [
    "df_data.drop(columns='pgold', inplace =True)"
   ]
  },
  {
   "cell_type": "code",
   "execution_count": 10,
   "metadata": {},
   "outputs": [
    {
     "name": "stdout",
     "output_type": "stream",
     "text": [
      "                            OLS Regression Results                            \n",
      "==============================================================================\n",
      "Dep. Variable:                 van500   R-squared:                       0.916\n",
      "Model:                            OLS   Adj. R-squared:                  0.914\n",
      "Method:                 Least Squares   F-statistic:                     497.7\n",
      "Date:                Mon, 21 Sep 2020   Prob (F-statistic):           3.84e-97\n",
      "Time:                        20:41:17   Log-Likelihood:                -823.38\n",
      "No. Observations:                 188   AIC:                             1657.\n",
      "Df Residuals:                     183   BIC:                             1673.\n",
      "Df Model:                           4                                         \n",
      "Covariance Type:            nonrobust                                         \n",
      "==============================================================================\n",
      "                 coef    std err          t      P>|t|      [0.025      0.975]\n",
      "------------------------------------------------------------------------------\n",
      "const      -1732.7933    131.136    -13.214      0.000   -1991.527   -1474.060\n",
      "cci           12.4130      1.321      9.394      0.000       9.806      15.020\n",
      "poilbre       -0.3680      0.088     -4.195      0.000      -0.541      -0.195\n",
      "cpi            3.5720      0.495      7.217      0.000       2.595       4.548\n",
      "ppi           -0.8504      0.418     -2.034      0.043      -1.676      -0.025\n",
      "==============================================================================\n",
      "Omnibus:                       44.899   Durbin-Watson:                   1.938\n",
      "Prob(Omnibus):                  0.000   Jarque-Bera (JB):              104.690\n",
      "Skew:                           1.054   Prob(JB):                     1.85e-23\n",
      "Kurtosis:                       5.986   Cond. No.                     2.72e+04\n",
      "==============================================================================\n",
      "\n",
      "Warnings:\n",
      "[1] Standard Errors assume that the covariance matrix of the errors is correctly specified.\n",
      "[2] The condition number is large, 2.72e+04. This might indicate that there are\n",
      "strong multicollinearity or other numerical problems.\n"
     ]
    }
   ],
   "source": [
    "df_xtrain, df_xtest = train_test_split(df_data,test_size = .2)\n",
    "X = df_xtrain[['cci', 'poilbre', 'cpi','ppi']]\n",
    "y = df_xtrain.van500\n",
    "X = sm.add_constant(X)\n",
    "mod = sm.OLS(y, X, hasconst= True)\n",
    "res = mod.fit()\n",
    "print(res.summary())"
   ]
  },
  {
   "cell_type": "markdown",
   "metadata": {},
   "source": [
    "#### Backward Selection Analysis (dropping pgold)\n",
    "\n",
    "<p> Dropping pgold seems to have been effective.  R-squared increased from .922 to .924, which I will read as no change.  The F-statistic increased from 430 to 537, meaning my predictors are still related to the reponse variable.  The p-value of ppi has increased from 0.067 to 0.432.  I will continue with backwards selection.  I will continue to use p>=3 as my stop rule. "
   ]
  },
  {
   "cell_type": "markdown",
   "metadata": {},
   "source": [
    "#### Drop the ppi variable"
   ]
  },
  {
   "cell_type": "code",
   "execution_count": 11,
   "metadata": {},
   "outputs": [],
   "source": [
    "df_data.drop(columns='ppi', inplace =True)"
   ]
  },
  {
   "cell_type": "code",
   "execution_count": 12,
   "metadata": {},
   "outputs": [
    {
     "name": "stdout",
     "output_type": "stream",
     "text": [
      "                            OLS Regression Results                            \n",
      "==============================================================================\n",
      "Dep. Variable:                 van500   R-squared:                       0.927\n",
      "Model:                            OLS   Adj. R-squared:                  0.926\n",
      "Method:                 Least Squares   F-statistic:                     783.4\n",
      "Date:                Mon, 21 Sep 2020   Prob (F-statistic):          1.69e-104\n",
      "Time:                        20:41:17   Log-Likelihood:                -808.10\n",
      "No. Observations:                 188   AIC:                             1624.\n",
      "Df Residuals:                     184   BIC:                             1637.\n",
      "Df Model:                           3                                         \n",
      "Covariance Type:            nonrobust                                         \n",
      "==============================================================================\n",
      "                 coef    std err          t      P>|t|      [0.025      0.975]\n",
      "------------------------------------------------------------------------------\n",
      "const      -1868.9872    112.343    -16.636      0.000   -2090.634   -1647.341\n",
      "cci           14.8239      1.150     12.888      0.000      12.555      17.093\n",
      "poilbre       -0.3964      0.062     -6.401      0.000      -0.519      -0.274\n",
      "cpi            2.4984      0.065     38.202      0.000       2.369       2.627\n",
      "==============================================================================\n",
      "Omnibus:                       45.140   Durbin-Watson:                   1.943\n",
      "Prob(Omnibus):                  0.000   Jarque-Bera (JB):              100.581\n",
      "Skew:                           1.080   Prob(JB):                     1.44e-22\n",
      "Kurtosis:                       5.859   Cond. No.                     2.15e+04\n",
      "==============================================================================\n",
      "\n",
      "Warnings:\n",
      "[1] Standard Errors assume that the covariance matrix of the errors is correctly specified.\n",
      "[2] The condition number is large, 2.15e+04. This might indicate that there are\n",
      "strong multicollinearity or other numerical problems.\n"
     ]
    }
   ],
   "source": [
    "df_xtrain, df_xtest = train_test_split(df_data,test_size = .2)\n",
    "X = df_xtrain[['cci', 'poilbre', 'cpi']]\n",
    "y = df_xtrain.van500\n",
    "X = sm.add_constant(X)\n",
    "mod = sm.OLS(y, X, hasconst= True)\n",
    "res = mod.fit()\n",
    "print(res.summary())"
   ]
  },
  {
   "cell_type": "markdown",
   "metadata": {},
   "source": [
    "#### Backward Selection Analysis (droping ppi)\n",
    "\n",
    "<p> Dropping ppi was effective.  While R-squared decreased from .924 to .911, the change is small and R-squared is affected by then number of predictors regardless of the predictive ability.  Therefore I will read the decrease in p-value as no change.  The F-statistic further increased from 537 to 629, meaning my predictors are still related to the reponse variable.  The p-value of the remaining predictors is tiny, suggesting they are statistically significant."
   ]
  },
  {
   "cell_type": "code",
   "execution_count": 13,
   "metadata": {},
   "outputs": [],
   "source": [
    "#from Murat Guner Linear Regression.ipynb\n",
    "Xtest = df_xtest[['cci', 'poilbre', 'cpi']]\n",
    "ytest = df_xtest.van500\n",
    "Xtest = sm.add_constant(Xtest)\n",
    "\n",
    "res.predict(Xtest);"
   ]
  },
  {
   "cell_type": "markdown",
   "metadata": {},
   "source": [
    "### 6.) Investigate Potential Errors: \n",
    "#### Data Linearity, Error Constancy, Outliers, and High Leverage Points\n",
    "\n",
    "The residuals plots pairs predicted values with corresponding residuals and can be used to provide evidence concerning <b>data linearity</b>, <b>error constancy</b>, <b>outliers</b>, and <b>high leverage points.</b>  \n",
    "\n",
    "##### Data Linearity:\n",
    "<p>A core assumption of the linear regression model is that there is a linear relationship between the predictors and the response.  If this assumption holds, there should be little to no discernible pattern in the residuals plot.  Reviewing the plot below suggests that there is a weak cosine-like pattern to the residuals, challegning the assumption of linearity.</p>\n",
    "\n",
    "##### Error Constancy\n",
    "<p>A second assumption in the linear regression model is that the error terms have a constant variance.  If this assumption holds the error terms should have no discernible pattern.  The same observation concerning the cosine-like pattern applies here as well.  However, it appears that this pattern speaks more to the non-linear nature of the model than to a pattern in the error terms.</p>\n",
    "\n",
    "##### Outliers\n",
    "<p>There are four clear outliers in the data that should be removed, and the model re-run.</p>\n",
    "\n",
    "##### High Leverage Points\n",
    "<p>High leverage points occur when one or more predictors have unsual values.  There are no high leverage points in the data.</p>"
   ]
  },
  {
   "cell_type": "code",
   "execution_count": 14,
   "metadata": {},
   "outputs": [
    {
     "data": {
      "image/png": "[encoded data removed]",
      "text/plain": [
       "<Figure size 432x288 with 1 Axes>"
      ]
     },
     "metadata": {
      "needs_background": "light"
     },
     "output_type": "display_data"
    }
   ],
   "source": [
    "#from Murat Guner Linear Regression.ipynb\n",
    "residuals = res.resid\n",
    "\n",
    "y_pred = res.predict(X)\n",
    "plt.scatter(y_pred, residuals)\n",
    "plt.axhline(y=0, color = 'red', label = '0')\n",
    "\n",
    "plt.xlabel('predicted values')\n",
    "\n",
    "plt.ylabel('residuals')\n",
    "\n",
    "plt.tight_layout()"
   ]
  },
  {
   "cell_type": "raw",
   "metadata": {},
   "source": [
    "for i in range(2,df_xtrain.shape[1]-1):\n",
    "    print(i)\n",
    "    df_xtrain.iloc[:,i] = np.cos(df_xtrain.iloc[:,i])\n"
   ]
  },
  {
   "cell_type": "markdown",
   "metadata": {},
   "source": [
    "#### Non-Correlation of Error Terms\n",
    "\n",
    "<p>The linear regression model assumes that the error terms are uncorrelated (i.e. one error term provides no information on the adjacent terms).  If this is true a plot of the residuals across time should appear random.  The below plot of residuals against time provides evidence that the error terms are uncorrlated.</p>"
   ]
  },
  {
   "cell_type": "code",
   "execution_count": 15,
   "metadata": {},
   "outputs": [
    {
     "data": {
      "image/png": "[encoded data removed]",
      "text/plain": [
       "<Figure size 432x288 with 1 Axes>"
      ]
     },
     "metadata": {
      "needs_background": "light"
     },
     "output_type": "display_data"
    }
   ],
   "source": [
    "time = df_xtrain['Date']\n",
    "residuals = res.resid\n",
    "\n",
    "\n",
    "plt.scatter(time, residuals)\n",
    "plt.axhline(y=0, color = 'red', label = '0')\n",
    "\n",
    "plt.xlabel('time')\n",
    "\n",
    "plt.ylabel('residuals')\n",
    "\n",
    "plt.tight_layout()"
   ]
  },
  {
   "cell_type": "markdown",
   "metadata": {},
   "source": [
    "#### Multicollinearity \n",
    "\n",
    "<p>Multicollinearity occurs when two or more variables are highly correlated.  A good method for testing for multicollinearity is to use the Variance Inflation Factor (VIF).  Values close to 1 suggest a small amount of collinearity among the variables.  The one term that exceeds the threshold of a 5 to 10 VIF value is the constant term and should be ignored.  The predictors all have values near 1 and therefore there is only a small amount of collinearity in the data.</p>\n"
   ]
  },
  {
   "cell_type": "code",
   "execution_count": 18,
   "metadata": {},
   "outputs": [
    {
     "data": {
      "text/plain": [
       "[7325.576245159567, 1.6159142655946408, 2.029852823314241, 1.4727510610453738]"
      ]
     },
     "execution_count": 18,
     "metadata": {},
     "output_type": "execute_result"
    }
   ],
   "source": [
    "# https://stackoverflow.com/questions/42258241/vif-by-coef-in-ols-regression-results-pythonvariables = res.model.exog\n",
    "variables = res.model.exog\n",
    "vif = [variance_inflation_factor(variables, i) for i in range(variables.shape[1])]\n",
    "vif "
   ]
  },
  {
   "cell_type": "code",
   "execution_count": null,
   "metadata": {},
   "outputs": [],
   "source": []
  }
 ],
 "metadata": {
  "kernelspec": {
   "display_name": "Python 3",
   "language": "python",
   "name": "python3"
  },
  "language_info": {
   "codemirror_mode": {
    "name": "ipython",
    "version": 3
   },
   "file_extension": ".py",
   "mimetype": "text/x-python",
   "name": "python",
   "nbconvert_exporter": "python",
   "pygments_lexer": "ipython3",
   "version": "3.7.3"
  }
 },
 "nbformat": 4,
 "nbformat_minor": 4
}

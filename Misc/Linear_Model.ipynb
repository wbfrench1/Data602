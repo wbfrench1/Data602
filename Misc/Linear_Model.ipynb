{
 "cells": [
  {
   "cell_type": "code",
   "execution_count": 1,
   "metadata": {},
   "outputs": [],
   "source": [
    "import pandas as pd\n",
    "import matplotlib.pyplot as plt\n",
    "from pandas.plotting import scatter_matrix\n",
    "from sklearn.model_selection import train_test_split\n",
    "from sklearn.pipeline import Pipeline\n",
    "from sklearn.preprocessing import StandardScaler\n",
    "from sklearn.preprocessing import MinMaxScaler\n",
    "from sklearn.linear_model import LinearRegression\n",
    "from sklearn.metrics import mean_squared_error\n",
    "from sklearn.metrics import r2_score\n",
    "from sklearn.model_selection import GridSearchCV\n",
    "from sklearn.linear_model import Lasso\n",
    "from sklearn.linear_model import Ridge\n",
    "import statsmodels.api as sm\n",
    "import numpy as np\n",
    "pd.set_option('display.max_rows', 100)\n",
    "pd.set_option('display.max_columns', 100)"
   ]
  },
  {
   "cell_type": "markdown",
   "metadata": {},
   "source": [
    "### Read in the Data"
   ]
  },
  {
   "cell_type": "raw",
   "metadata": {},
   "source": [
    "#usecols=['incidencerate','medincome', 'povertypercent','percentmarried', 'pctnohs18_24', \n",
    "       'pcths18_24', 'pcths25_over', 'pctbachdeg25_over', 'pctemployed16_over',\n",
    "       'pctunemployed16_over', 'pctprivatecoverage', 'pctprivatecoveragealone',\n",
    "       'pctempprivcoverage', 'pctpubliccoverage', 'pctpubliccoveragealone',\n",
    "       'pctmarriedhouseholds','target_deathrate']"
   ]
  },
  {
   "cell_type": "code",
   "execution_count": 2,
   "metadata": {},
   "outputs": [],
   "source": [
    "data_f_path = '.\\Data\\\\'\n",
    "df_cancer = pd.read_csv(data_f_path + 'cancer_reg.csv',)"
   ]
  },
  {
   "cell_type": "markdown",
   "metadata": {},
   "source": [
    "### Clean the Data"
   ]
  },
  {
   "cell_type": "code",
   "execution_count": 3,
   "metadata": {},
   "outputs": [
    {
     "name": "stdout",
     "output_type": "stream",
     "text": [
      "cols_w_type_obj: ['binnedinc', 'geography']\n"
     ]
    }
   ],
   "source": [
    "# drop variables with null values\n",
    "cols_w_null_values = ['pctprivatecoveragealone','pctemployed16_over','pctsomecol18_24']  \n",
    "df_cancer.drop(cols_w_null_values,axis=1,inplace=True)\n",
    "# drop variables with object type\n",
    "cols_w_type_obj = df_cancer.dtypes[df_cancer.dtypes == 'object'].index.to_list()\n",
    "print('cols_w_type_obj:', cols_w_type_obj)\n",
    "df_cancer.drop(cols_w_type_obj,axis=1,inplace=True)\n",
    "# drop observations with median age above 100 years\n",
    "#df_cancer.drop(df_cancer[(df_cancer['medianage'] > 100)].index,inplace = True)"
   ]
  },
  {
   "cell_type": "markdown",
   "metadata": {},
   "source": [
    "### Transform the Data"
   ]
  },
  {
   "cell_type": "code",
   "execution_count": 4,
   "metadata": {},
   "outputs": [],
   "source": [
    "# divide the data up into train and test sets\n",
    "df_cancer_train, df_cancer_test = train_test_split(df_cancer, test_size = 0.2, random_state = 42)\n",
    "# Separate the training data into two dfs, predictors (X) and response (y)\n",
    "X_train = df_cancer_train.drop(columns=['target_deathrate'])\n",
    "y_train = df_cancer_train['target_deathrate']\n",
    "X_test = df_cancer_test.drop(columns=['target_deathrate'])\n",
    "y_test = df_cancer_test['target_deathrate']"
   ]
  },
  {
   "cell_type": "code",
   "execution_count": 5,
   "metadata": {},
   "outputs": [
    {
     "name": "stdout",
     "output_type": "stream",
     "text": [
      "size of X_train: (2437, 28)\n",
      "size of X_train_trans: (2437, 28)\n"
     ]
    }
   ],
   "source": [
    "# https://stackoverflow.com/questions/40758562/can-anyone-explain-me-standardscaler\n",
    "# Standardize the data sets\n",
    "scaler = StandardScaler()\n",
    "X_train_trans = scaler.fit_transform(X_train)\n",
    "X_train_trans\n",
    "print('size of X_train:',X_train.shape)\n",
    "print('size of X_train_trans:',np.shape(X_train_trans))"
   ]
  },
  {
   "cell_type": "raw",
   "metadata": {},
   "source": [
    "X_train_trans.shape\n",
    "print('df_X_train_trans',df_X_train_trans.head())\n",
    "print('y_train',y_train.head())"
   ]
  },
  {
   "cell_type": "code",
   "execution_count": 6,
   "metadata": {},
   "outputs": [],
   "source": [
    "df_X_train_trans = pd.DataFrame(X_train_trans, columns = X_train.columns,index=y_train.index)"
   ]
  },
  {
   "cell_type": "code",
   "execution_count": 7,
   "metadata": {},
   "outputs": [],
   "source": [
    "df_X_train_trans.insert(0,column='const',value=1)"
   ]
  },
  {
   "cell_type": "code",
   "execution_count": 8,
   "metadata": {},
   "outputs": [
    {
     "data": {
      "text/plain": [
       "array([[-0.37602052, -0.31282017, -0.80227183, ..., -0.31662133,\n",
       "        -0.05246479,  0.34838406],\n",
       "       [-0.43887762, -0.37854788, -1.74470349, ..., -0.53035221,\n",
       "         2.02699829, -0.24539736],\n",
       "       [-0.26737861, -0.18355569, -0.33287537, ..., -0.43704778,\n",
       "         1.69207091, -0.00450785],\n",
       "       ...,\n",
       "       [-0.0213823 ,  0.05744589,  0.16926969, ..., -0.38072939,\n",
       "        -0.5488271 , -0.35135642],\n",
       "       [ 1.05857076, -0.38731157,  0.10285231, ..., -0.52258444,\n",
       "         1.70623144,  1.66623011],\n",
       "       [ 0.11054001,  0.27215638,  0.55497531, ..., -0.44952052,\n",
       "        -0.62624152, -0.40844767]])"
      ]
     },
     "execution_count": 8,
     "metadata": {},
     "output_type": "execute_result"
    }
   ],
   "source": [
    "X_train_trans"
   ]
  },
  {
   "cell_type": "code",
   "execution_count": 9,
   "metadata": {},
   "outputs": [
    {
     "data": {
      "text/html": [
       "<div>\n",
       "<style scoped>\n",
       "    .dataframe tbody tr th:only-of-type {\n",
       "        vertical-align: middle;\n",
       "    }\n",
       "\n",
       "    .dataframe tbody tr th {\n",
       "        vertical-align: top;\n",
       "    }\n",
       "\n",
       "    .dataframe thead th {\n",
       "        text-align: right;\n",
       "    }\n",
       "</style>\n",
       "<table border=\"1\" class=\"dataframe\">\n",
       "  <thead>\n",
       "    <tr style=\"text-align: right;\">\n",
       "      <th></th>\n",
       "      <th>const</th>\n",
       "      <th>avganncount</th>\n",
       "      <th>avgdeathsperyear</th>\n",
       "      <th>incidencerate</th>\n",
       "      <th>medincome</th>\n",
       "      <th>popest2015</th>\n",
       "      <th>povertypercent</th>\n",
       "      <th>studypercap</th>\n",
       "      <th>medianage</th>\n",
       "      <th>medianagemale</th>\n",
       "      <th>medianagefemale</th>\n",
       "      <th>avghouseholdsize</th>\n",
       "      <th>percentmarried</th>\n",
       "      <th>pctnohs18_24</th>\n",
       "      <th>pcths18_24</th>\n",
       "      <th>pctbachdeg18_24</th>\n",
       "      <th>pcths25_over</th>\n",
       "      <th>pctbachdeg25_over</th>\n",
       "      <th>pctunemployed16_over</th>\n",
       "      <th>pctprivatecoverage</th>\n",
       "      <th>pctempprivcoverage</th>\n",
       "      <th>pctpubliccoverage</th>\n",
       "      <th>pctpubliccoveragealone</th>\n",
       "      <th>pctwhite</th>\n",
       "      <th>pctblack</th>\n",
       "      <th>pctasian</th>\n",
       "      <th>pctotherrace</th>\n",
       "      <th>pctmarriedhouseholds</th>\n",
       "      <th>birthrate</th>\n",
       "    </tr>\n",
       "  </thead>\n",
       "  <tbody>\n",
       "    <tr>\n",
       "      <th>2830</th>\n",
       "      <td>1</td>\n",
       "      <td>-0.376021</td>\n",
       "      <td>-0.312820</td>\n",
       "      <td>-0.802272</td>\n",
       "      <td>0.023753</td>\n",
       "      <td>-0.271636</td>\n",
       "      <td>-0.478875</td>\n",
       "      <td>-0.291095</td>\n",
       "      <td>-0.103303</td>\n",
       "      <td>0.039439</td>\n",
       "      <td>0.100981</td>\n",
       "      <td>-0.354326</td>\n",
       "      <td>-0.105269</td>\n",
       "      <td>0.201673</td>\n",
       "      <td>-0.156766</td>\n",
       "      <td>-0.099638</td>\n",
       "      <td>0.057614</td>\n",
       "      <td>1.152448</td>\n",
       "      <td>-1.232370</td>\n",
       "      <td>1.023559</td>\n",
       "      <td>0.593498</td>\n",
       "      <td>-0.600401</td>\n",
       "      <td>-1.032989</td>\n",
       "      <td>0.528427</td>\n",
       "      <td>-0.481200</td>\n",
       "      <td>-0.245521</td>\n",
       "      <td>-0.316621</td>\n",
       "      <td>-0.052465</td>\n",
       "      <td>0.348384</td>\n",
       "    </tr>\n",
       "    <tr>\n",
       "      <th>1188</th>\n",
       "      <td>1</td>\n",
       "      <td>-0.438878</td>\n",
       "      <td>-0.378548</td>\n",
       "      <td>-1.744703</td>\n",
       "      <td>2.545803</td>\n",
       "      <td>-0.315782</td>\n",
       "      <td>-1.581173</td>\n",
       "      <td>-0.291095</td>\n",
       "      <td>-0.161168</td>\n",
       "      <td>-0.510313</td>\n",
       "      <td>-0.442143</td>\n",
       "      <td>0.601891</td>\n",
       "      <td>1.489953</td>\n",
       "      <td>1.464793</td>\n",
       "      <td>-1.527470</td>\n",
       "      <td>0.097419</td>\n",
       "      <td>0.043315</td>\n",
       "      <td>0.715121</td>\n",
       "      <td>-0.707916</td>\n",
       "      <td>1.108743</td>\n",
       "      <td>1.388256</td>\n",
       "      <td>-2.342928</td>\n",
       "      <td>-1.767273</td>\n",
       "      <td>0.735201</td>\n",
       "      <td>-0.627518</td>\n",
       "      <td>-0.278717</td>\n",
       "      <td>-0.530352</td>\n",
       "      <td>2.026998</td>\n",
       "      <td>-0.245397</td>\n",
       "    </tr>\n",
       "    <tr>\n",
       "      <th>887</th>\n",
       "      <td>1</td>\n",
       "      <td>-0.267379</td>\n",
       "      <td>-0.183556</td>\n",
       "      <td>-0.332875</td>\n",
       "      <td>2.835350</td>\n",
       "      <td>-0.181290</td>\n",
       "      <td>-1.470943</td>\n",
       "      <td>-0.291095</td>\n",
       "      <td>-0.045439</td>\n",
       "      <td>0.589190</td>\n",
       "      <td>0.363180</td>\n",
       "      <td>0.625213</td>\n",
       "      <td>0.808358</td>\n",
       "      <td>-0.570915</td>\n",
       "      <td>-0.046226</td>\n",
       "      <td>1.038914</td>\n",
       "      <td>-0.714556</td>\n",
       "      <td>1.589775</td>\n",
       "      <td>-0.737052</td>\n",
       "      <td>1.506268</td>\n",
       "      <td>1.526014</td>\n",
       "      <td>-0.964511</td>\n",
       "      <td>-0.949547</td>\n",
       "      <td>0.364684</td>\n",
       "      <td>-0.112104</td>\n",
       "      <td>-0.144619</td>\n",
       "      <td>-0.437048</td>\n",
       "      <td>1.692071</td>\n",
       "      <td>-0.004508</td>\n",
       "    </tr>\n",
       "    <tr>\n",
       "      <th>1924</th>\n",
       "      <td>1</td>\n",
       "      <td>-0.406285</td>\n",
       "      <td>-0.332538</td>\n",
       "      <td>-0.734955</td>\n",
       "      <td>-0.358368</td>\n",
       "      <td>-0.273177</td>\n",
       "      <td>-0.352898</td>\n",
       "      <td>-0.291095</td>\n",
       "      <td>-0.311187</td>\n",
       "      <td>-1.780428</td>\n",
       "      <td>-1.977875</td>\n",
       "      <td>1.698041</td>\n",
       "      <td>1.040391</td>\n",
       "      <td>1.562899</td>\n",
       "      <td>-0.598929</td>\n",
       "      <td>-1.041133</td>\n",
       "      <td>-1.257935</td>\n",
       "      <td>-0.710947</td>\n",
       "      <td>-1.086688</td>\n",
       "      <td>-0.471893</td>\n",
       "      <td>0.561708</td>\n",
       "      <td>-1.224590</td>\n",
       "      <td>-0.181887</td>\n",
       "      <td>-0.245534</td>\n",
       "      <td>-0.422345</td>\n",
       "      <td>2.801363</td>\n",
       "      <td>1.020523</td>\n",
       "      <td>1.793340</td>\n",
       "      <td>2.412272</td>\n",
       "    </tr>\n",
       "    <tr>\n",
       "      <th>2921</th>\n",
       "      <td>1</td>\n",
       "      <td>-0.379125</td>\n",
       "      <td>-0.284338</td>\n",
       "      <td>1.000720</td>\n",
       "      <td>-0.013074</td>\n",
       "      <td>-0.300514</td>\n",
       "      <td>-0.431634</td>\n",
       "      <td>-0.291095</td>\n",
       "      <td>-0.024007</td>\n",
       "      <td>0.721888</td>\n",
       "      <td>0.606649</td>\n",
       "      <td>-0.470938</td>\n",
       "      <td>1.098399</td>\n",
       "      <td>0.250726</td>\n",
       "      <td>-1.063200</td>\n",
       "      <td>-0.581333</td>\n",
       "      <td>0.029015</td>\n",
       "      <td>-0.863060</td>\n",
       "      <td>0.282719</td>\n",
       "      <td>0.105465</td>\n",
       "      <td>0.137836</td>\n",
       "      <td>0.804024</td>\n",
       "      <td>0.652528</td>\n",
       "      <td>0.886513</td>\n",
       "      <td>-0.599616</td>\n",
       "      <td>-0.336974</td>\n",
       "      <td>-0.559800</td>\n",
       "      <td>0.436037</td>\n",
       "      <td>-0.812808</td>\n",
       "    </tr>\n",
       "  </tbody>\n",
       "</table>\n",
       "</div>"
      ],
      "text/plain": [
       "      const  avganncount  avgdeathsperyear  incidencerate  medincome  \\\n",
       "2830      1    -0.376021         -0.312820      -0.802272   0.023753   \n",
       "1188      1    -0.438878         -0.378548      -1.744703   2.545803   \n",
       "887       1    -0.267379         -0.183556      -0.332875   2.835350   \n",
       "1924      1    -0.406285         -0.332538      -0.734955  -0.358368   \n",
       "2921      1    -0.379125         -0.284338       1.000720  -0.013074   \n",
       "\n",
       "      popest2015  povertypercent  studypercap  medianage  medianagemale  \\\n",
       "2830   -0.271636       -0.478875    -0.291095  -0.103303       0.039439   \n",
       "1188   -0.315782       -1.581173    -0.291095  -0.161168      -0.510313   \n",
       "887    -0.181290       -1.470943    -0.291095  -0.045439       0.589190   \n",
       "1924   -0.273177       -0.352898    -0.291095  -0.311187      -1.780428   \n",
       "2921   -0.300514       -0.431634    -0.291095  -0.024007       0.721888   \n",
       "\n",
       "      medianagefemale  avghouseholdsize  percentmarried  pctnohs18_24  \\\n",
       "2830         0.100981         -0.354326       -0.105269      0.201673   \n",
       "1188        -0.442143          0.601891        1.489953      1.464793   \n",
       "887          0.363180          0.625213        0.808358     -0.570915   \n",
       "1924        -1.977875          1.698041        1.040391      1.562899   \n",
       "2921         0.606649         -0.470938        1.098399      0.250726   \n",
       "\n",
       "      pcths18_24  pctbachdeg18_24  pcths25_over  pctbachdeg25_over  \\\n",
       "2830   -0.156766        -0.099638      0.057614           1.152448   \n",
       "1188   -1.527470         0.097419      0.043315           0.715121   \n",
       "887    -0.046226         1.038914     -0.714556           1.589775   \n",
       "1924   -0.598929        -1.041133     -1.257935          -0.710947   \n",
       "2921   -1.063200        -0.581333      0.029015          -0.863060   \n",
       "\n",
       "      pctunemployed16_over  pctprivatecoverage  pctempprivcoverage  \\\n",
       "2830             -1.232370            1.023559            0.593498   \n",
       "1188             -0.707916            1.108743            1.388256   \n",
       "887              -0.737052            1.506268            1.526014   \n",
       "1924             -1.086688           -0.471893            0.561708   \n",
       "2921              0.282719            0.105465            0.137836   \n",
       "\n",
       "      pctpubliccoverage  pctpubliccoveragealone  pctwhite  pctblack  pctasian  \\\n",
       "2830          -0.600401               -1.032989  0.528427 -0.481200 -0.245521   \n",
       "1188          -2.342928               -1.767273  0.735201 -0.627518 -0.278717   \n",
       "887           -0.964511               -0.949547  0.364684 -0.112104 -0.144619   \n",
       "1924          -1.224590               -0.181887 -0.245534 -0.422345  2.801363   \n",
       "2921           0.804024                0.652528  0.886513 -0.599616 -0.336974   \n",
       "\n",
       "      pctotherrace  pctmarriedhouseholds  birthrate  \n",
       "2830     -0.316621             -0.052465   0.348384  \n",
       "1188     -0.530352              2.026998  -0.245397  \n",
       "887      -0.437048              1.692071  -0.004508  \n",
       "1924      1.020523              1.793340   2.412272  \n",
       "2921     -0.559800              0.436037  -0.812808  "
      ]
     },
     "execution_count": 9,
     "metadata": {},
     "output_type": "execute_result"
    }
   ],
   "source": [
    "df_X_train_trans.head()"
   ]
  },
  {
   "cell_type": "markdown",
   "metadata": {},
   "source": [
    "### Run the Linear Regression Model"
   ]
  },
  {
   "cell_type": "code",
   "execution_count": 10,
   "metadata": {},
   "outputs": [
    {
     "name": "stdout",
     "output_type": "stream",
     "text": [
      "                            OLS Regression Results                            \n",
      "==============================================================================\n",
      "Dep. Variable:       target_deathrate   R-squared:                       0.525\n",
      "Model:                            OLS   Adj. R-squared:                  0.519\n",
      "Method:                 Least Squares   F-statistic:                     94.97\n",
      "Date:                Mon, 12 Oct 2020   Prob (F-statistic):               0.00\n",
      "Time:                        09:48:01   Log-Likelihood:                -10631.\n",
      "No. Observations:                2437   AIC:                         2.132e+04\n",
      "Df Residuals:                    2408   BIC:                         2.149e+04\n",
      "Df Model:                          28                                         \n",
      "Covariance Type:            nonrobust                                         \n",
      "==========================================================================================\n",
      "                             coef    std err          t      P>|t|      [0.025      0.975]\n",
      "------------------------------------------------------------------------------------------\n",
      "const                    178.6085      0.387    461.862      0.000     177.850     179.367\n",
      "avganncount               -4.4177      1.090     -4.053      0.000      -6.555      -2.280\n",
      "avgdeathsperyear           9.3494      2.020      4.628      0.000       5.388      13.311\n",
      "incidencerate             10.7254      0.436     24.597      0.000       9.870      11.580\n",
      "medincome                  1.6058      1.056      1.521      0.128      -0.464       3.676\n",
      "popest2015                -5.8931      1.877     -3.140      0.002      -9.573      -2.213\n",
      "povertypercent             3.7152      1.092      3.403      0.001       1.574       5.856\n",
      "studypercap               -0.0340      0.395     -0.086      0.931      -0.809       0.741\n",
      "medianage                 -0.2660      0.391     -0.680      0.497      -1.033       0.501\n",
      "medianagemale             -3.0804      1.198     -2.572      0.010      -5.429      -0.732\n",
      "medianagefemale            0.9880      1.260      0.784      0.433      -1.483       3.459\n",
      "avghouseholdsize          -0.2600      0.461     -0.564      0.573      -1.165       0.645\n",
      "percentmarried             5.5739      1.115      4.998      0.000       3.387       7.761\n",
      "pctnohs18_24              -1.0798      0.499     -2.163      0.031      -2.059      -0.101\n",
      "pcths18_24                 2.4674      0.490      5.040      0.000       1.507       3.427\n",
      "pctbachdeg18_24           -0.2181      0.535     -0.408      0.683      -1.267       0.831\n",
      "pcths25_over               2.4082      0.743      3.241      0.001       0.951       3.865\n",
      "pctbachdeg25_over         -7.7676      0.903     -8.602      0.000      -9.538      -5.997\n",
      "pctunemployed16_over       0.8948      0.601      1.489      0.136      -0.283       2.073\n",
      "pctprivatecoverage        -6.1198      1.527     -4.008      0.000      -9.114      -3.126\n",
      "pctempprivcoverage         2.7484      1.058      2.599      0.009       0.675       4.822\n",
      "pctpubliccoverage         -1.0501      1.831     -0.573      0.566      -4.642       2.541\n",
      "pctpubliccoveragealone     0.6002      1.819      0.330      0.742      -2.968       4.168\n",
      "pctwhite                  -2.2771      1.005     -2.265      0.024      -4.249      -0.305\n",
      "pctblack                  -1.7495      0.850     -2.059      0.040      -3.416      -0.083\n",
      "pctasian                   0.2899      0.545      0.532      0.595      -0.779       1.359\n",
      "pctotherrace              -3.2050      0.480     -6.681      0.000      -4.146      -2.264\n",
      "pctmarriedhouseholds      -5.9335      1.012     -5.865      0.000      -7.917      -3.950\n",
      "birthrate                 -1.8945      0.424     -4.468      0.000      -2.726      -1.063\n",
      "==============================================================================\n",
      "Omnibus:                      124.907   Durbin-Watson:                   1.914\n",
      "Prob(Omnibus):                  0.000   Jarque-Bera (JB):              449.577\n",
      "Skew:                           0.078   Prob(JB):                     2.37e-98\n",
      "Kurtosis:                       5.098   Cond. No.                         19.7\n",
      "==============================================================================\n",
      "\n",
      "Warnings:\n",
      "[1] Standard Errors assume that the covariance matrix of the errors is correctly specified.\n"
     ]
    }
   ],
   "source": [
    "mod = sm.OLS(y_train, df_X_train_trans, hasconst= True)\n",
    "res = mod.fit()\n",
    "print(res.summary(alpha=.05))"
   ]
  },
  {
   "cell_type": "raw",
   "metadata": {},
   "source": [
    "residuals = res.resid\n",
    "\n",
    "y_pred = res.predict(X_train_trans)\n",
    "plt.scatter(y_pred, residuals)\n",
    "plt.axhline(y=0, color = 'red', label = '0')\n",
    "\n",
    "plt.xlabel('predicted values')\n",
    "\n",
    "plt.ylabel('residuals')\n",
    "\n",
    "plt.tight_layout()"
   ]
  },
  {
   "cell_type": "markdown",
   "metadata": {},
   "source": [
    "### Use Scikit Learn to Train Linear Regression Model"
   ]
  },
  {
   "cell_type": "code",
   "execution_count": 11,
   "metadata": {},
   "outputs": [
    {
     "name": "stdout",
     "output_type": "stream",
     "text": [
      "Mean Squared Error: 360.1117488557265\n",
      "Root Mean Squared Error: 18.97661057343293\n",
      "R^2: 0.5247777445865737\n"
     ]
    }
   ],
   "source": [
    "lin_reg = LinearRegression()\n",
    "lin_reg.fit(df_X_train_trans,y_train)\n",
    "y_train_predictions = lin_reg.predict(df_X_train_trans)\n",
    "lin_mse = mean_squared_error(y_train,y_train_predictions)\n",
    "print('Mean Squared Error:' , lin_mse)\n",
    "lin_rmse = np.sqrt(lin_mse)\n",
    "print('Root Mean Squared Error:', lin_rmse)\n",
    "r2 = r2_score(y_train,y_train_predictions)\n",
    "print('R^2:',r2)"
   ]
  },
  {
   "cell_type": "code",
   "execution_count": 12,
   "metadata": {},
   "outputs": [
    {
     "data": {
      "text/plain": [
       "364.4486428411152"
      ]
     },
     "execution_count": 12,
     "metadata": {},
     "output_type": "execute_result"
    }
   ],
   "source": [
    "res.mse_resid"
   ]
  },
  {
   "cell_type": "markdown",
   "metadata": {},
   "source": [
    "### Perform Lasso Regularization"
   ]
  },
  {
   "cell_type": "code",
   "execution_count": 13,
   "metadata": {},
   "outputs": [
    {
     "name": "stderr",
     "output_type": "stream",
     "text": [
      "C:\\Users\\barker.FRENCH\\AppData\\Local\\Continuum\\anaconda3\\lib\\site-packages\\sklearn\\linear_model\\_coordinate_descent.py:531: ConvergenceWarning: Objective did not converge. You might want to increase the number of iterations. Duality gap: 151894.0964850714, tolerance: 147.36189307234483\n",
      "  positive)\n",
      "C:\\Users\\barker.FRENCH\\AppData\\Local\\Continuum\\anaconda3\\lib\\site-packages\\sklearn\\linear_model\\_coordinate_descent.py:531: ConvergenceWarning: Objective did not converge. You might want to increase the number of iterations. Duality gap: 84041.22101550084, tolerance: 147.0634658573627\n",
      "  positive)\n",
      "C:\\Users\\barker.FRENCH\\AppData\\Local\\Continuum\\anaconda3\\lib\\site-packages\\sklearn\\linear_model\\_coordinate_descent.py:531: ConvergenceWarning: Objective did not converge. You might want to increase the number of iterations. Duality gap: 235728.25316436667, tolerance: 147.2217835261538\n",
      "  positive)\n",
      "C:\\Users\\barker.FRENCH\\AppData\\Local\\Continuum\\anaconda3\\lib\\site-packages\\sklearn\\linear_model\\_coordinate_descent.py:531: ConvergenceWarning: Objective did not converge. You might want to increase the number of iterations. Duality gap: 129757.57328048669, tolerance: 143.69786392871796\n",
      "  positive)\n",
      "C:\\Users\\barker.FRENCH\\AppData\\Local\\Continuum\\anaconda3\\lib\\site-packages\\sklearn\\linear_model\\_coordinate_descent.py:531: ConvergenceWarning: Objective did not converge. You might want to increase the number of iterations. Duality gap: 133648.05204011576, tolerance: 153.2443481148718\n",
      "  positive)\n"
     ]
    },
    {
     "data": {
      "text/plain": [
       "GridSearchCV(cv=5, estimator=Lasso(),\n",
       "             param_grid={'alpha': [1e-15, 1e-10, 1e-08, 0.0001, 0.001, 0.01, 1,\n",
       "                                   5, 10, 20]},\n",
       "             scoring='neg_mean_squared_error')"
      ]
     },
     "execution_count": 13,
     "metadata": {},
     "output_type": "execute_result"
    }
   ],
   "source": [
    "# https://towardsdatascience.com/how-to-perform-lasso-and-ridge-regression-in-python-3b3b75541ad8\n",
    "lasso = Lasso()\n",
    "parameters = {'alpha': [1e-15, 1e-10, 1e-8, 1e-4, 1e-3, 1e-2, 1, 5, 10, 20]}\n",
    "lasso_regressor = GridSearchCV(lasso, parameters, scoring='neg_mean_squared_error', cv = 5)\n",
    "lasso_regressor.fit(df_X_train_trans,y_train)"
   ]
  },
  {
   "cell_type": "code",
   "execution_count": null,
   "metadata": {},
   "outputs": [],
   "source": [
    "print(lasso_regressor.best_params_)\n",
    "print(lasso_regressor.best_score_)\n",
    "lasso_regressor"
   ]
  },
  {
   "cell_type": "code",
   "execution_count": 15,
   "metadata": {},
   "outputs": [
    {
     "data": {
      "text/plain": [
       "array([ 0.        , -4.28094235,  8.79191341, 10.72594479,  1.49043671,\n",
       "       -5.44903792,  3.55101142, -0.03116545, -0.25666408, -2.89579969,\n",
       "        0.69786476, -0.25671318,  5.34096501, -1.04217796,  2.48760646,\n",
       "       -0.18025953,  2.40819878, -7.70362977,  0.87621731, -6.14318106,\n",
       "        2.74869692, -0.72404617,  0.38253684, -2.18018799, -1.62527329,\n",
       "        0.28513144, -3.18540102, -5.76556447, -1.87201858])"
      ]
     },
     "execution_count": 15,
     "metadata": {},
     "output_type": "execute_result"
    }
   ],
   "source": [
    "lasso = Lasso(alpha=.01)\n",
    "res = lasso.fit(df_X_train_trans,y_train)\n",
    "res.coef_"
   ]
  },
  {
   "cell_type": "markdown",
   "metadata": {},
   "source": [
    "#### Try out Best Lasso"
   ]
  },
  {
   "cell_type": "code",
   "execution_count": 16,
   "metadata": {},
   "outputs": [
    {
     "name": "stdout",
     "output_type": "stream",
     "text": [
      "final_mse: 420.0490316245353\n",
      "final_rmse: 20.495097746157136\n"
     ]
    }
   ],
   "source": [
    "X_test_trans = scaler.transform(X_test)\n",
    "df_X_test_trans = pd.DataFrame(X_test_trans, columns = X_test.columns,index=y_test.index)\n",
    "df_X_test_trans.insert(0,column='const',value=1)\n",
    "final_lasso = lasso_regressor.best_estimator_\n",
    "final_predictions = final_lasso.predict(df_X_test_trans)\n",
    "final_mse = mean_squared_error(y_test,final_predictions)\n",
    "final_rmse = np.sqrt(final_mse)\n",
    "print('final_mse:', final_mse)\n",
    "print('final_rmse:',final_rmse)"
   ]
  },
  {
   "cell_type": "code",
   "execution_count": 17,
   "metadata": {},
   "outputs": [],
   "source": [
    "final_predictions;"
   ]
  },
  {
   "cell_type": "code",
   "execution_count": 18,
   "metadata": {},
   "outputs": [
    {
     "name": "stdout",
     "output_type": "stream",
     "text": [
      "negative mean square error: -376.48071702798245\n",
      "mean square error: 19.40311101416426 {'alpha': 1e-15}\n",
      "negative mean square error: -376.4807170236751\n",
      "mean square error: 19.403111014053263 {'alpha': 1e-10}\n",
      "negative mean square error: -376.48071659722865\n",
      "mean square error: 19.40311100306414 {'alpha': 1e-08}\n",
      "negative mean square error: -376.4764147384332\n",
      "mean square error: 19.403000147874895 {'alpha': 0.0001}\n",
      "negative mean square error: -376.4380355698082\n",
      "mean square error: 19.40201112178344 {'alpha': 0.001}\n",
      "negative mean square error: -376.10661627101047\n",
      "mean square error: 19.393468391987298 {'alpha': 0.01}\n",
      "negative mean square error: -386.6366478799864\n",
      "mean square error: 19.663078291050628 {'alpha': 1}\n",
      "negative mean square error: -462.67622529380105\n",
      "mean square error: 21.509909932256832 {'alpha': 5}\n",
      "negative mean square error: -631.3855294104563\n",
      "mean square error: 25.127386044124375 {'alpha': 10}\n",
      "negative mean square error: -758.600104436765\n",
      "mean square error: 27.54269602701894 {'alpha': 20}\n"
     ]
    }
   ],
   "source": [
    "cvres = lasso_regressor.cv_results_\n",
    "for mean_score, params in zip(cvres['mean_test_score'], cvres['params']):\n",
    "    print('negative mean square error:', mean_score)\n",
    "    print('mean square error:', np.sqrt(-mean_score),params)"
   ]
  },
  {
   "cell_type": "code",
   "execution_count": 19,
   "metadata": {},
   "outputs": [
    {
     "data": {
      "text/plain": [
       "dict_keys(['mean_fit_time', 'std_fit_time', 'mean_score_time', 'std_score_time', 'param_alpha', 'params', 'split0_test_score', 'split1_test_score', 'split2_test_score', 'split3_test_score', 'split4_test_score', 'mean_test_score', 'std_test_score', 'rank_test_score'])"
      ]
     },
     "execution_count": 19,
     "metadata": {},
     "output_type": "execute_result"
    }
   ],
   "source": [
    "cvres.keys()"
   ]
  },
  {
   "cell_type": "markdown",
   "metadata": {},
   "source": [
    "### Perform Ridge Regularization"
   ]
  },
  {
   "cell_type": "code",
   "execution_count": 20,
   "metadata": {},
   "outputs": [
    {
     "name": "stderr",
     "output_type": "stream",
     "text": [
      "C:\\Users\\barker.FRENCH\\AppData\\Local\\Continuum\\anaconda3\\lib\\site-packages\\sklearn\\linear_model\\_ridge.py:148: LinAlgWarning: Ill-conditioned matrix (rcond=4.92201e-20): result may not be accurate.\n",
      "  overwrite_a=True).T\n",
      "C:\\Users\\barker.FRENCH\\AppData\\Local\\Continuum\\anaconda3\\lib\\site-packages\\sklearn\\linear_model\\_ridge.py:148: LinAlgWarning: Ill-conditioned matrix (rcond=5.05408e-20): result may not be accurate.\n",
      "  overwrite_a=True).T\n",
      "C:\\Users\\barker.FRENCH\\AppData\\Local\\Continuum\\anaconda3\\lib\\site-packages\\sklearn\\linear_model\\_ridge.py:148: LinAlgWarning: Ill-conditioned matrix (rcond=4.77768e-20): result may not be accurate.\n",
      "  overwrite_a=True).T\n",
      "C:\\Users\\barker.FRENCH\\AppData\\Local\\Continuum\\anaconda3\\lib\\site-packages\\sklearn\\linear_model\\_ridge.py:148: LinAlgWarning: Ill-conditioned matrix (rcond=4.81855e-20): result may not be accurate.\n",
      "  overwrite_a=True).T\n",
      "C:\\Users\\barker.FRENCH\\AppData\\Local\\Continuum\\anaconda3\\lib\\site-packages\\sklearn\\linear_model\\_ridge.py:148: LinAlgWarning: Ill-conditioned matrix (rcond=4.88175e-20): result may not be accurate.\n",
      "  overwrite_a=True).T\n"
     ]
    },
    {
     "data": {
      "text/plain": [
       "GridSearchCV(cv=5, estimator=Ridge(),\n",
       "             param_grid={'alpha': [1e-15, 1e-10, 1e-08, 0.0001, 0.001, 0.01, 1,\n",
       "                                   5, 10, 20]},\n",
       "             scoring='neg_mean_squared_error')"
      ]
     },
     "execution_count": 20,
     "metadata": {},
     "output_type": "execute_result"
    }
   ],
   "source": [
    "# https://towardsdatascience.com/how-to-perform-lasso-and-ridge-regression-in-python-3b3b75541ad8\n",
    "ridge = Ridge()\n",
    "parameters = {'alpha': [1e-15, 1e-10, 1e-8, 1e-4, 1e-3, 1e-2, 1, 5, 10, 20]}\n",
    "ridge_regressor = GridSearchCV(ridge, parameters, scoring='neg_mean_squared_error', cv = 5)\n",
    "ridge_regressor.fit(df_X_train_trans,y_train)"
   ]
  },
  {
   "cell_type": "code",
   "execution_count": 21,
   "metadata": {},
   "outputs": [
    {
     "name": "stdout",
     "output_type": "stream",
     "text": [
      "{'alpha': 20}\n",
      "-375.5966975489716\n"
     ]
    }
   ],
   "source": [
    "print(ridge_regressor.best_params_)\n",
    "print(ridge_regressor.best_score_)"
   ]
  },
  {
   "cell_type": "code",
   "execution_count": 22,
   "metadata": {},
   "outputs": [
    {
     "data": {
      "text/plain": [
       "array([ 0.        , -3.81995497,  6.89639348, 10.65119377,  1.21131845,\n",
       "       -3.98708434,  3.26555349, -0.04963221, -0.27144107, -2.69402469,\n",
       "        0.66054985, -0.30355723,  4.73052303, -1.00038192,  2.51432273,\n",
       "       -0.1988134 ,  2.49650689, -7.4857626 ,  0.95158915, -5.61531866,\n",
       "        2.50421691, -1.0547848 ,  0.99715669, -2.10677577, -1.5597305 ,\n",
       "        0.25875154, -3.16518956, -5.35631837, -1.85576322])"
      ]
     },
     "execution_count": 22,
     "metadata": {},
     "output_type": "execute_result"
    }
   ],
   "source": [
    "ridge = Ridge(alpha=20)\n",
    "res = ridge.fit(df_X_train_trans,y_train)\n",
    "res.coef_"
   ]
  },
  {
   "cell_type": "markdown",
   "metadata": {},
   "source": [
    "### Drop Predictors that are Not Significant"
   ]
  },
  {
   "cell_type": "code",
   "execution_count": 23,
   "metadata": {},
   "outputs": [],
   "source": [
    "cols_to_drop = ['medincome','studypercap','medianage','medianagemale',\n",
    "                'medianagefemale','avghouseholdsize','pctnohs18_24',\n",
    "                'pctbachdeg18_24','pctpubliccoverage','pctpubliccoveragealone',\n",
    "               'pctblack','pctasian']"
   ]
  },
  {
   "cell_type": "code",
   "execution_count": 24,
   "metadata": {},
   "outputs": [],
   "source": [
    "df_X_train_trans.drop(columns=cols_to_drop,axis=1,inplace=True)"
   ]
  },
  {
   "cell_type": "code",
   "execution_count": 25,
   "metadata": {},
   "outputs": [
    {
     "name": "stdout",
     "output_type": "stream",
     "text": [
      "                            OLS Regression Results                            \n",
      "==============================================================================\n",
      "Dep. Variable:       target_deathrate   R-squared:                       0.518\n",
      "Model:                            OLS   Adj. R-squared:                  0.514\n",
      "Method:                 Least Squares   F-statistic:                     162.3\n",
      "Date:                Mon, 12 Oct 2020   Prob (F-statistic):               0.00\n",
      "Time:                        09:48:04   Log-Likelihood:                -10649.\n",
      "No. Observations:                2437   AIC:                         2.133e+04\n",
      "Df Residuals:                    2420   BIC:                         2.143e+04\n",
      "Df Model:                          16                                         \n",
      "Covariance Type:            nonrobust                                         \n",
      "========================================================================================\n",
      "                           coef    std err          t      P>|t|      [0.025      0.975]\n",
      "----------------------------------------------------------------------------------------\n",
      "const                  178.6085      0.389    459.540      0.000     177.846     179.371\n",
      "avganncount             -4.3758      1.089     -4.019      0.000      -6.511      -2.241\n",
      "avgdeathsperyear         7.9458      1.996      3.980      0.000       4.031      11.860\n",
      "incidencerate           10.8542      0.428     25.334      0.000      10.014      11.694\n",
      "popest2015              -4.4380      1.828     -2.427      0.015      -8.023      -0.853\n",
      "povertypercent           3.2417      0.888      3.652      0.000       1.501       4.982\n",
      "percentmarried           3.6135      1.004      3.598      0.000       1.644       5.583\n",
      "pcths18_24               2.5498      0.461      5.535      0.000       1.646       3.453\n",
      "pcths25_over             1.5526      0.707      2.195      0.028       0.166       2.939\n",
      "pctbachdeg25_over       -7.0857      0.831     -8.524      0.000      -8.716      -5.456\n",
      "pctunemployed16_over     0.6591      0.575      1.146      0.252      -0.468       1.786\n",
      "pctprivatecoverage      -7.1034      1.026     -6.926      0.000      -9.115      -5.092\n",
      "pctempprivcoverage       5.1581      0.789      6.534      0.000       3.610       6.706\n",
      "pctwhite                -1.3901      0.580     -2.395      0.017      -2.528      -0.252\n",
      "pctotherrace            -2.7710      0.460     -6.020      0.000      -3.674      -1.868\n",
      "pctmarriedhouseholds    -4.3832      0.861     -5.090      0.000      -6.072      -2.695\n",
      "birthrate               -1.3442      0.405     -3.323      0.001      -2.137      -0.551\n",
      "==============================================================================\n",
      "Omnibus:                      118.550   Durbin-Watson:                   1.917\n",
      "Prob(Omnibus):                  0.000   Jarque-Bera (JB):              413.876\n",
      "Skew:                           0.060   Prob(JB):                     1.34e-90\n",
      "Kurtosis:                       5.015   Cond. No.                         14.5\n",
      "==============================================================================\n",
      "\n",
      "Warnings:\n",
      "[1] Standard Errors assume that the covariance matrix of the errors is correctly specified.\n"
     ]
    }
   ],
   "source": [
    "X_train_trans = sm.add_constant(X_train_trans)\n",
    "mod = sm.OLS(y_train, df_X_train_trans, hasconst= True)\n",
    "res = mod.fit()\n",
    "print(res.summary())"
   ]
  },
  {
   "cell_type": "markdown",
   "metadata": {},
   "source": [
    "### Post-Not Significant Variable Drop - Use Scikit Learn to Train Linear Regression Model"
   ]
  },
  {
   "cell_type": "code",
   "execution_count": 26,
   "metadata": {},
   "outputs": [
    {
     "name": "stdout",
     "output_type": "stream",
     "text": [
      "Root Mean Squared Error: 19.119948257767685\n",
      "R^2: 0.5175715561709802\n"
     ]
    }
   ],
   "source": [
    "lin_reg = LinearRegression()\n",
    "lin_reg.fit(df_X_train_trans,y_train)\n",
    "y_train_predictions = lin_reg.predict(df_X_train_trans)\n",
    "lin_mse = mean_squared_error(y_train,y_train_predictions)\n",
    "lin_rmse = np.sqrt(lin_mse)\n",
    "print('Root Mean Squared Error:', lin_rmse)\n",
    "r2 = r2_score(y_train,y_train_predictions)\n",
    "print('R^2:',r2)"
   ]
  },
  {
   "cell_type": "code",
   "execution_count": 27,
   "metadata": {},
   "outputs": [
    {
     "name": "stderr",
     "output_type": "stream",
     "text": [
      "C:\\Users\\barker.FRENCH\\AppData\\Local\\Continuum\\anaconda3\\lib\\site-packages\\sklearn\\linear_model\\_coordinate_descent.py:531: ConvergenceWarning: Objective did not converge. You might want to increase the number of iterations. Duality gap: 107354.08358160831, tolerance: 147.36189307234483\n",
      "  positive)\n",
      "C:\\Users\\barker.FRENCH\\AppData\\Local\\Continuum\\anaconda3\\lib\\site-packages\\sklearn\\linear_model\\_coordinate_descent.py:531: ConvergenceWarning: Objective did not converge. You might want to increase the number of iterations. Duality gap: 55533.262593659456, tolerance: 147.0634658573627\n",
      "  positive)\n",
      "C:\\Users\\barker.FRENCH\\AppData\\Local\\Continuum\\anaconda3\\lib\\site-packages\\sklearn\\linear_model\\_coordinate_descent.py:531: ConvergenceWarning: Objective did not converge. You might want to increase the number of iterations. Duality gap: 260972.09062731994, tolerance: 147.2217835261538\n",
      "  positive)\n",
      "C:\\Users\\barker.FRENCH\\AppData\\Local\\Continuum\\anaconda3\\lib\\site-packages\\sklearn\\linear_model\\_coordinate_descent.py:531: ConvergenceWarning: Objective did not converge. You might want to increase the number of iterations. Duality gap: 156708.9038927355, tolerance: 143.69786392871796\n",
      "  positive)\n",
      "C:\\Users\\barker.FRENCH\\AppData\\Local\\Continuum\\anaconda3\\lib\\site-packages\\sklearn\\linear_model\\_coordinate_descent.py:531: ConvergenceWarning: Objective did not converge. You might want to increase the number of iterations. Duality gap: 203725.84013529666, tolerance: 153.2443481148718\n",
      "  positive)\n"
     ]
    },
    {
     "name": "stdout",
     "output_type": "stream",
     "text": [
      "{'alpha': 0.01}\n",
      "-374.33733735030455\n"
     ]
    }
   ],
   "source": [
    "# https://towardsdatascience.com/how-to-perform-lasso-and-ridge-regression-in-python-3b3b75541ad8\n",
    "lasso = Lasso()\n",
    "parameters = {'alpha': [1e-15, 1e-10, 1e-8, 1e-4, 1e-3, 1e-2, 1, 5, 10, 20]}\n",
    "lasso_regressor = GridSearchCV(lasso, parameters, scoring='neg_mean_squared_error', cv = 5)\n",
    "lasso_regressor.fit(df_X_train_trans,y_train)\n",
    "print(lasso_regressor.best_params_)\n",
    "print(lasso_regressor.best_score_)"
   ]
  },
  {
   "cell_type": "code",
   "execution_count": 28,
   "metadata": {},
   "outputs": [
    {
     "data": {
      "image/png": "[encoded data removed]",
      "text/plain": [
       "<Figure size 432x288 with 1 Axes>"
      ]
     },
     "metadata": {
      "needs_background": "light"
     },
     "output_type": "display_data"
    }
   ],
   "source": [
    "residuals = res.resid\n",
    "\n",
    "y_pred = res.predict(df_X_train_trans)\n",
    "plt.scatter(y_pred, residuals)\n",
    "plt.axhline(y=0, color = 'red', label = '0')\n",
    "\n",
    "plt.xlabel('predicted values')\n",
    "\n",
    "plt.ylabel('residuals')\n",
    "\n",
    "plt.tight_layout()"
   ]
  },
  {
   "cell_type": "markdown",
   "metadata": {},
   "source": [
    "### Remove Outliers"
   ]
  },
  {
   "cell_type": "code",
   "execution_count": 29,
   "metadata": {},
   "outputs": [
    {
     "name": "stderr",
     "output_type": "stream",
     "text": [
      "C:\\Users\\barker.FRENCH\\AppData\\Local\\Continuum\\anaconda3\\lib\\site-packages\\pandas\\core\\series.py:4504: SettingWithCopyWarning: \n",
      "A value is trying to be set on a copy of a slice from a DataFrame\n",
      "\n",
      "See the caveats in the documentation: https://pandas.pydata.org/pandas-docs/stable/user_guide/indexing.html#returning-a-view-versus-a-copy\n",
      "  errors=errors,\n"
     ]
    }
   ],
   "source": [
    "#https://medium.com/analytics-vidhya/ways-to-improve-a-linear-regression-model-e2c75fc0bdfd\n",
    "f_75_percentile = y_train.describe()['75%']\n",
    "f_25_percentile = y_train.describe()['25%']\n",
    "#calculate the interquartile range\n",
    "IQR = f_75_percentile - f_25_percentile\n",
    "outlier_upper_bound = f_75_percentile + 1.5 * IQR\n",
    "outlier_lower_bound = f_25_percentile - 1.5 * IQR\n",
    "upper_outlier_indices = (y_train[y_train > outlier_upper_bound]).index\n",
    "lower_outlier_indices = (y_train[y_train < outlier_lower_bound]).index\n",
    "y_train.drop(index=upper_outlier_indices,inplace=True)\n",
    "y_train.drop(index=lower_outlier_indices,inplace=True)\n",
    "df_X_train_trans.drop(index=upper_outlier_indices,inplace=True)\n",
    "df_X_train_trans.drop(index=lower_outlier_indices,inplace=True)"
   ]
  },
  {
   "cell_type": "code",
   "execution_count": 30,
   "metadata": {},
   "outputs": [
    {
     "name": "stdout",
     "output_type": "stream",
     "text": [
      "Root Mean Squared Error: 17.904277869496692\n",
      "R^2: 0.4725383968179476\n"
     ]
    }
   ],
   "source": [
    "lin_reg = LinearRegression()\n",
    "lin_reg.fit(df_X_train_trans,y_train)\n",
    "y_train_predictions = lin_reg.predict(df_X_train_trans)\n",
    "lin_mse = mean_squared_error(y_train,y_train_predictions)\n",
    "lin_rmse = np.sqrt(lin_mse)\n",
    "print('Root Mean Squared Error:', lin_rmse)\n",
    "r2 = r2_score(y_train,y_train_predictions)\n",
    "print('R^2:',r2)"
   ]
  },
  {
   "cell_type": "code",
   "execution_count": 31,
   "metadata": {},
   "outputs": [
    {
     "name": "stderr",
     "output_type": "stream",
     "text": [
      "C:\\Users\\barker.FRENCH\\AppData\\Local\\Continuum\\anaconda3\\lib\\site-packages\\sklearn\\linear_model\\_coordinate_descent.py:531: ConvergenceWarning: Objective did not converge. You might want to increase the number of iterations. Duality gap: 63134.63987116539, tolerance: 114.15050805774278\n",
      "  positive)\n",
      "C:\\Users\\barker.FRENCH\\AppData\\Local\\Continuum\\anaconda3\\lib\\site-packages\\sklearn\\linear_model\\_coordinate_descent.py:531: ConvergenceWarning: Objective did not converge. You might want to increase the number of iterations. Duality gap: 174669.194189757, tolerance: 116.33569204514437\n",
      "  positive)\n",
      "C:\\Users\\barker.FRENCH\\AppData\\Local\\Continuum\\anaconda3\\lib\\site-packages\\sklearn\\linear_model\\_coordinate_descent.py:531: ConvergenceWarning: Objective did not converge. You might want to increase the number of iterations. Duality gap: 162251.72875878806, tolerance: 112.33052227701995\n",
      "  positive)\n",
      "C:\\Users\\barker.FRENCH\\AppData\\Local\\Continuum\\anaconda3\\lib\\site-packages\\sklearn\\linear_model\\_coordinate_descent.py:531: ConvergenceWarning: Objective did not converge. You might want to increase the number of iterations. Duality gap: 111337.8544018224, tolerance: 115.94133392864639\n",
      "  positive)\n",
      "C:\\Users\\barker.FRENCH\\AppData\\Local\\Continuum\\anaconda3\\lib\\site-packages\\sklearn\\linear_model\\_coordinate_descent.py:531: ConvergenceWarning: Objective did not converge. You might want to increase the number of iterations. Duality gap: 133075.08698923877, tolerance: 120.24656411542497\n",
      "  positive)\n"
     ]
    },
    {
     "name": "stdout",
     "output_type": "stream",
     "text": [
      "{'alpha': 0.01}\n",
      "-327.7071342271556\n"
     ]
    }
   ],
   "source": [
    "# https://towardsdatascience.com/how-to-perform-lasso-and-ridge-regression-in-python-3b3b75541ad8\n",
    "lasso = Lasso()\n",
    "parameters = {'alpha': [1e-15, 1e-10, 1e-8, 1e-4, 1e-3, 1e-2, 1, 5, 10, 20]}\n",
    "lasso_regressor = GridSearchCV(lasso, parameters, scoring='neg_mean_squared_error', cv = 5)\n",
    "lasso_regressor.fit(df_X_train_trans,y_train)\n",
    "print(lasso_regressor.best_params_)\n",
    "print(lasso_regressor.best_score_)"
   ]
  },
  {
   "cell_type": "code",
   "execution_count": 32,
   "metadata": {},
   "outputs": [
    {
     "name": "stdout",
     "output_type": "stream",
     "text": [
      "                            OLS Regression Results                            \n",
      "==============================================================================\n",
      "Dep. Variable:       target_deathrate   R-squared:                       0.473\n",
      "Model:                            OLS   Adj. R-squared:                  0.469\n",
      "Method:                 Least Squares   F-statistic:                     132.4\n",
      "Date:                Mon, 12 Oct 2020   Prob (F-statistic):          1.08e-313\n",
      "Time:                        09:48:07   Log-Likelihood:                -10252.\n",
      "No. Observations:                2382   AIC:                         2.054e+04\n",
      "Df Residuals:                    2365   BIC:                         2.064e+04\n",
      "Df Model:                          16                                         \n",
      "Covariance Type:            nonrobust                                         \n",
      "========================================================================================\n",
      "                           coef    std err          t      P>|t|      [0.025      0.975]\n",
      "----------------------------------------------------------------------------------------\n",
      "const                  178.2685      0.368    483.882      0.000     177.546     178.991\n",
      "avganncount             -5.7368      1.032     -5.557      0.000      -7.761      -3.713\n",
      "avgdeathsperyear         9.8685      1.882      5.244      0.000       6.178      13.559\n",
      "incidencerate            9.2574      0.437     21.206      0.000       8.401      10.113\n",
      "popest2015              -5.0957      1.715     -2.971      0.003      -8.459      -1.733\n",
      "povertypercent           1.7971      0.878      2.046      0.041       0.075       3.519\n",
      "percentmarried           2.3549      0.971      2.425      0.015       0.451       4.259\n",
      "pcths18_24               1.9822      0.442      4.483      0.000       1.115       2.849\n",
      "pcths25_over             1.5992      0.681      2.350      0.019       0.265       2.934\n",
      "pctbachdeg25_over       -6.9426      0.822     -8.446      0.000      -8.554      -5.331\n",
      "pctunemployed16_over     1.0076      0.553      1.822      0.069      -0.077       2.092\n",
      "pctprivatecoverage      -6.1197      0.987     -6.200      0.000      -8.055      -4.184\n",
      "pctempprivcoverage       4.1298      0.755      5.473      0.000       2.650       5.610\n",
      "pctwhite                -1.2010      0.563     -2.133      0.033      -2.305      -0.097\n",
      "pctotherrace            -2.7155      0.437     -6.218      0.000      -3.572      -1.859\n",
      "pctmarriedhouseholds    -3.5413      0.829     -4.273      0.000      -5.166      -1.916\n",
      "birthrate               -1.1764      0.388     -3.030      0.002      -1.938      -0.415\n",
      "==============================================================================\n",
      "Omnibus:                       63.911   Durbin-Watson:                   1.919\n",
      "Prob(Omnibus):                  0.000   Jarque-Bera (JB):              147.136\n",
      "Skew:                          -0.078   Prob(JB):                     1.12e-32\n",
      "Kurtosis:                       4.208   Cond. No.                         14.2\n",
      "==============================================================================\n",
      "\n",
      "Warnings:\n",
      "[1] Standard Errors assume that the covariance matrix of the errors is correctly specified.\n"
     ]
    }
   ],
   "source": [
    "X_train_trans = sm.add_constant(X_train_trans)\n",
    "mod = sm.OLS(y_train, df_X_train_trans, hasconst= True)\n",
    "res = mod.fit()\n",
    "print(res.summary())"
   ]
  },
  {
   "cell_type": "markdown",
   "metadata": {},
   "source": [
    "### Check the Independence Assumption"
   ]
  },
  {
   "cell_type": "code",
   "execution_count": 33,
   "metadata": {},
   "outputs": [
    {
     "data": {
      "image/png": "[encoded data removed]",
      "text/plain": [
       "<Figure size 432x288 with 1 Axes>"
      ]
     },
     "metadata": {
      "needs_background": "light"
     },
     "output_type": "display_data"
    }
   ],
   "source": [
    "residuals = res.resid\n",
    "\n",
    "y_pred = res.predict(df_X_train_trans)\n",
    "plt.scatter(y_pred, residuals)\n",
    "plt.axhline(y=0, color = 'red', label = '0')\n",
    "\n",
    "plt.xlabel('predicted values')\n",
    "\n",
    "plt.ylabel('residuals')\n",
    "\n",
    "plt.tight_layout()"
   ]
  },
  {
   "cell_type": "markdown",
   "metadata": {},
   "source": [
    "# Start Again with 6 strongest variables"
   ]
  },
  {
   "cell_type": "code",
   "execution_count": 34,
   "metadata": {},
   "outputs": [],
   "source": [
    "cols_to_read_in = ['incidencerate','medincome','povertypercent',\n",
    "                   'percentmarried','pctprivatecoveragealone',\n",
    "                   'pctpubliccoveragealone','target_deathrate']"
   ]
  },
  {
   "cell_type": "code",
   "execution_count": 35,
   "metadata": {},
   "outputs": [],
   "source": [
    "data_f_path = '.\\Data\\\\'\n",
    "df_cancer = pd.read_csv(data_f_path + 'cancer_reg.csv',usecols=cols_to_read_in)"
   ]
  },
  {
   "cell_type": "code",
   "execution_count": 36,
   "metadata": {},
   "outputs": [
    {
     "name": "stdout",
     "output_type": "stream",
     "text": [
      "(3047, 7)\n",
      "(3047, 7)\n"
     ]
    }
   ],
   "source": [
    "print(df_cancer.shape)\n",
    "\n",
    "print(df_cancer.shape)"
   ]
  },
  {
   "cell_type": "markdown",
   "metadata": {},
   "source": [
    "### Clean the Data"
   ]
  },
  {
   "cell_type": "code",
   "execution_count": 37,
   "metadata": {},
   "outputs": [],
   "source": [
    "# drop rows with null values\n",
    "df_cancer.dropna(inplace=True)"
   ]
  },
  {
   "cell_type": "code",
   "execution_count": 38,
   "metadata": {},
   "outputs": [
    {
     "data": {
      "text/html": [
       "<div>\n",
       "<style scoped>\n",
       "    .dataframe tbody tr th:only-of-type {\n",
       "        vertical-align: middle;\n",
       "    }\n",
       "\n",
       "    .dataframe tbody tr th {\n",
       "        vertical-align: top;\n",
       "    }\n",
       "\n",
       "    .dataframe thead th {\n",
       "        text-align: right;\n",
       "    }\n",
       "</style>\n",
       "<table border=\"1\" class=\"dataframe\">\n",
       "  <thead>\n",
       "    <tr style=\"text-align: right;\">\n",
       "      <th></th>\n",
       "      <th>target_deathrate</th>\n",
       "      <th>incidencerate</th>\n",
       "      <th>medincome</th>\n",
       "      <th>povertypercent</th>\n",
       "      <th>percentmarried</th>\n",
       "      <th>pctprivatecoveragealone</th>\n",
       "      <th>pctpubliccoveragealone</th>\n",
       "    </tr>\n",
       "  </thead>\n",
       "  <tbody>\n",
       "    <tr>\n",
       "      <th>count</th>\n",
       "      <td>2438.000000</td>\n",
       "      <td>2438.000000</td>\n",
       "      <td>2438.000000</td>\n",
       "      <td>2438.000000</td>\n",
       "      <td>2438.000000</td>\n",
       "      <td>2438.000000</td>\n",
       "      <td>2438.000000</td>\n",
       "    </tr>\n",
       "    <tr>\n",
       "      <th>mean</th>\n",
       "      <td>178.851066</td>\n",
       "      <td>448.602300</td>\n",
       "      <td>47031.755127</td>\n",
       "      <td>16.908162</td>\n",
       "      <td>51.744668</td>\n",
       "      <td>48.453774</td>\n",
       "      <td>19.274897</td>\n",
       "    </tr>\n",
       "    <tr>\n",
       "      <th>std</th>\n",
       "      <td>27.815269</td>\n",
       "      <td>55.175406</td>\n",
       "      <td>12075.535857</td>\n",
       "      <td>6.422939</td>\n",
       "      <td>6.928303</td>\n",
       "      <td>10.083006</td>\n",
       "      <td>6.143687</td>\n",
       "    </tr>\n",
       "    <tr>\n",
       "      <th>min</th>\n",
       "      <td>59.700000</td>\n",
       "      <td>201.300000</td>\n",
       "      <td>22640.000000</td>\n",
       "      <td>3.200000</td>\n",
       "      <td>23.100000</td>\n",
       "      <td>15.700000</td>\n",
       "      <td>2.600000</td>\n",
       "    </tr>\n",
       "    <tr>\n",
       "      <th>25%</th>\n",
       "      <td>161.300000</td>\n",
       "      <td>421.400000</td>\n",
       "      <td>38647.000000</td>\n",
       "      <td>12.100000</td>\n",
       "      <td>47.700000</td>\n",
       "      <td>41.000000</td>\n",
       "      <td>14.800000</td>\n",
       "    </tr>\n",
       "    <tr>\n",
       "      <th>50%</th>\n",
       "      <td>178.550000</td>\n",
       "      <td>453.549422</td>\n",
       "      <td>45194.000000</td>\n",
       "      <td>15.900000</td>\n",
       "      <td>52.500000</td>\n",
       "      <td>48.700000</td>\n",
       "      <td>18.800000</td>\n",
       "    </tr>\n",
       "    <tr>\n",
       "      <th>75%</th>\n",
       "      <td>195.375000</td>\n",
       "      <td>480.500000</td>\n",
       "      <td>52404.250000</td>\n",
       "      <td>20.575000</td>\n",
       "      <td>56.300000</td>\n",
       "      <td>55.600000</td>\n",
       "      <td>23.200000</td>\n",
       "    </tr>\n",
       "    <tr>\n",
       "      <th>max</th>\n",
       "      <td>362.800000</td>\n",
       "      <td>1206.900000</td>\n",
       "      <td>125635.000000</td>\n",
       "      <td>47.400000</td>\n",
       "      <td>72.500000</td>\n",
       "      <td>78.900000</td>\n",
       "      <td>46.600000</td>\n",
       "    </tr>\n",
       "  </tbody>\n",
       "</table>\n",
       "</div>"
      ],
      "text/plain": [
       "       target_deathrate  incidencerate      medincome  povertypercent  \\\n",
       "count       2438.000000    2438.000000    2438.000000     2438.000000   \n",
       "mean         178.851066     448.602300   47031.755127       16.908162   \n",
       "std           27.815269      55.175406   12075.535857        6.422939   \n",
       "min           59.700000     201.300000   22640.000000        3.200000   \n",
       "25%          161.300000     421.400000   38647.000000       12.100000   \n",
       "50%          178.550000     453.549422   45194.000000       15.900000   \n",
       "75%          195.375000     480.500000   52404.250000       20.575000   \n",
       "max          362.800000    1206.900000  125635.000000       47.400000   \n",
       "\n",
       "       percentmarried  pctprivatecoveragealone  pctpubliccoveragealone  \n",
       "count     2438.000000              2438.000000             2438.000000  \n",
       "mean        51.744668                48.453774               19.274897  \n",
       "std          6.928303                10.083006                6.143687  \n",
       "min         23.100000                15.700000                2.600000  \n",
       "25%         47.700000                41.000000               14.800000  \n",
       "50%         52.500000                48.700000               18.800000  \n",
       "75%         56.300000                55.600000               23.200000  \n",
       "max         72.500000                78.900000               46.600000  "
      ]
     },
     "execution_count": 38,
     "metadata": {},
     "output_type": "execute_result"
    }
   ],
   "source": [
    "df_cancer.describe()"
   ]
  },
  {
   "cell_type": "markdown",
   "metadata": {},
   "source": [
    "### Remove Outliers"
   ]
  },
  {
   "cell_type": "code",
   "execution_count": 39,
   "metadata": {},
   "outputs": [],
   "source": [
    "#https://medium.com/analytics-vidhya/ways-to-improve-a-linear-regression-model-e2c75fc0bdfd\n",
    "f_75_percentile = y_train.describe()['75%']\n",
    "f_25_percentile = y_train.describe()['25%']\n",
    "#calculate the interquartile range\n",
    "IQR = f_75_percentile - f_25_percentile\n",
    "outlier_upper_bound = f_75_percentile + 1.5 * IQR\n",
    "outlier_lower_bound = f_25_percentile - 1.5 * IQR\n",
    "upper_outlier_indices = (y_train[y_train > outlier_upper_bound]).index\n",
    "lower_outlier_indices = (y_train[y_train < outlier_lower_bound]).index\n",
    "y_train.drop(index=upper_outlier_indices,inplace=True)\n",
    "y_train.drop(index=lower_outlier_indices,inplace=True)\n",
    "df_X_train_trans.drop(index=upper_outlier_indices,inplace=True)\n",
    "df_X_train_trans.drop(index=lower_outlier_indices,inplace=True)"
   ]
  },
  {
   "cell_type": "markdown",
   "metadata": {},
   "source": [
    "### Transform the Data"
   ]
  },
  {
   "cell_type": "code",
   "execution_count": 40,
   "metadata": {},
   "outputs": [],
   "source": [
    "# divide the data up into train and test sets\n",
    "df_cancer_train, df_cancer_test = train_test_split(df_cancer, test_size = 0.2, random_state = 42)\n",
    "# Separate the training data into two dfs, predictors (X) and response (y)\n",
    "X_train = df_cancer_train.drop(columns=['target_deathrate'])\n",
    "y_train = df_cancer_train['target_deathrate']\n",
    "X_test = df_cancer_test.drop(columns=['target_deathrate'])\n",
    "y_test = df_cancer_test['target_deathrate']"
   ]
  },
  {
   "cell_type": "code",
   "execution_count": 41,
   "metadata": {},
   "outputs": [
    {
     "name": "stdout",
     "output_type": "stream",
     "text": [
      "size of X_train: (1950, 6)\n",
      "size of X_train_trans: (1950, 6)\n"
     ]
    }
   ],
   "source": [
    "# https://stackoverflow.com/questions/40758562/can-anyone-explain-me-standardscaler\n",
    "# Standardize the data sets\n",
    "scaler = MinMaxScaler()\n",
    "X_train_trans = scaler.fit_transform(X_train)\n",
    "X_train_trans\n",
    "print('size of X_train:',X_train.shape)\n",
    "print('size of X_train_trans:',np.shape(X_train_trans))"
   ]
  },
  {
   "cell_type": "raw",
   "metadata": {},
   "source": [
    "X_train_trans.shape\n",
    "print('df_X_train_trans',df_X_train_trans.head())\n",
    "print('y_train',y_train.head())"
   ]
  },
  {
   "cell_type": "code",
   "execution_count": 42,
   "metadata": {},
   "outputs": [],
   "source": [
    "df_X_train_trans = pd.DataFrame(X_train_trans, columns = X_train.columns,index=y_train.index)"
   ]
  },
  {
   "cell_type": "code",
   "execution_count": 43,
   "metadata": {},
   "outputs": [],
   "source": [
    "df_X_train_trans.insert(0,column='const',value=1)"
   ]
  },
  {
   "cell_type": "code",
   "execution_count": 44,
   "metadata": {},
   "outputs": [
    {
     "data": {
      "text/plain": [
       "array([[0.25735879, 0.0600694 , 0.71624714, 0.16801619, 0.25632911,\n",
       "        0.72727273],\n",
       "       [0.22384646, 0.17295827, 0.26315789, 0.74089069, 0.58860759,\n",
       "        0.23636364],\n",
       "       [0.28440732, 0.28699713, 0.26086957, 0.43522267, 0.65506329,\n",
       "        0.29545455],\n",
       "       ...,\n",
       "       [0.21022275, 0.20601794, 0.18764302, 0.66194332, 0.26740506,\n",
       "        0.39772727],\n",
       "       [0.27058473, 0.19299807, 0.30892449, 0.56072874, 0.46835443,\n",
       "        0.525     ],\n",
       "       [0.20554893, 0.2499075 , 0.22196796, 0.63967611, 0.53322785,\n",
       "        0.43863636]])"
      ]
     },
     "execution_count": 44,
     "metadata": {},
     "output_type": "execute_result"
    }
   ],
   "source": [
    "X_train_trans"
   ]
  },
  {
   "cell_type": "code",
   "execution_count": 45,
   "metadata": {},
   "outputs": [
    {
     "data": {
      "text/html": [
       "<div>\n",
       "<style scoped>\n",
       "    .dataframe tbody tr th:only-of-type {\n",
       "        vertical-align: middle;\n",
       "    }\n",
       "\n",
       "    .dataframe tbody tr th {\n",
       "        vertical-align: top;\n",
       "    }\n",
       "\n",
       "    .dataframe thead th {\n",
       "        text-align: right;\n",
       "    }\n",
       "</style>\n",
       "<table border=\"1\" class=\"dataframe\">\n",
       "  <thead>\n",
       "    <tr style=\"text-align: right;\">\n",
       "      <th></th>\n",
       "      <th>const</th>\n",
       "      <th>incidencerate</th>\n",
       "      <th>medincome</th>\n",
       "      <th>povertypercent</th>\n",
       "      <th>percentmarried</th>\n",
       "      <th>pctprivatecoveragealone</th>\n",
       "      <th>pctpubliccoveragealone</th>\n",
       "    </tr>\n",
       "  </thead>\n",
       "  <tbody>\n",
       "    <tr>\n",
       "      <th>2548</th>\n",
       "      <td>1</td>\n",
       "      <td>0.257359</td>\n",
       "      <td>0.060069</td>\n",
       "      <td>0.716247</td>\n",
       "      <td>0.168016</td>\n",
       "      <td>0.256329</td>\n",
       "      <td>0.727273</td>\n",
       "    </tr>\n",
       "    <tr>\n",
       "      <th>2818</th>\n",
       "      <td>1</td>\n",
       "      <td>0.223846</td>\n",
       "      <td>0.172958</td>\n",
       "      <td>0.263158</td>\n",
       "      <td>0.740891</td>\n",
       "      <td>0.588608</td>\n",
       "      <td>0.236364</td>\n",
       "    </tr>\n",
       "    <tr>\n",
       "      <th>818</th>\n",
       "      <td>1</td>\n",
       "      <td>0.284407</td>\n",
       "      <td>0.286997</td>\n",
       "      <td>0.260870</td>\n",
       "      <td>0.435223</td>\n",
       "      <td>0.655063</td>\n",
       "      <td>0.295455</td>\n",
       "    </tr>\n",
       "    <tr>\n",
       "      <th>513</th>\n",
       "      <td>1</td>\n",
       "      <td>0.196102</td>\n",
       "      <td>0.124089</td>\n",
       "      <td>0.487414</td>\n",
       "      <td>0.510121</td>\n",
       "      <td>0.382911</td>\n",
       "      <td>0.490909</td>\n",
       "    </tr>\n",
       "    <tr>\n",
       "      <th>214</th>\n",
       "      <td>1</td>\n",
       "      <td>0.242442</td>\n",
       "      <td>0.158598</td>\n",
       "      <td>0.398169</td>\n",
       "      <td>0.431174</td>\n",
       "      <td>0.430380</td>\n",
       "      <td>0.400000</td>\n",
       "    </tr>\n",
       "  </tbody>\n",
       "</table>\n",
       "</div>"
      ],
      "text/plain": [
       "      const  incidencerate  medincome  povertypercent  percentmarried  \\\n",
       "2548      1       0.257359   0.060069        0.716247        0.168016   \n",
       "2818      1       0.223846   0.172958        0.263158        0.740891   \n",
       "818       1       0.284407   0.286997        0.260870        0.435223   \n",
       "513       1       0.196102   0.124089        0.487414        0.510121   \n",
       "214       1       0.242442   0.158598        0.398169        0.431174   \n",
       "\n",
       "      pctprivatecoveragealone  pctpubliccoveragealone  \n",
       "2548                 0.256329                0.727273  \n",
       "2818                 0.588608                0.236364  \n",
       "818                  0.655063                0.295455  \n",
       "513                  0.382911                0.490909  \n",
       "214                  0.430380                0.400000  "
      ]
     },
     "execution_count": 45,
     "metadata": {},
     "output_type": "execute_result"
    }
   ],
   "source": [
    "df_X_train_trans.head()"
   ]
  },
  {
   "cell_type": "markdown",
   "metadata": {},
   "source": [
    "### Run the Linear Regression Model"
   ]
  },
  {
   "cell_type": "code",
   "execution_count": 46,
   "metadata": {},
   "outputs": [
    {
     "name": "stdout",
     "output_type": "stream",
     "text": [
      "                            OLS Regression Results                            \n",
      "==============================================================================\n",
      "Dep. Variable:       target_deathrate   R-squared:                       0.433\n",
      "Model:                            OLS   Adj. R-squared:                  0.431\n",
      "Method:                 Least Squares   F-statistic:                     246.9\n",
      "Date:                Mon, 12 Oct 2020   Prob (F-statistic):          6.79e-235\n",
      "Time:                        09:48:07   Log-Likelihood:                -8712.6\n",
      "No. Observations:                1950   AIC:                         1.744e+04\n",
      "Df Residuals:                    1943   BIC:                         1.748e+04\n",
      "Df Model:                           6                                         \n",
      "Covariance Type:            nonrobust                                         \n",
      "===========================================================================================\n",
      "                              coef    std err          t      P>|t|      [0.025      0.975]\n",
      "-------------------------------------------------------------------------------------------\n",
      "const                     104.3629      8.118     12.856      0.000      88.442     120.284\n",
      "incidencerate             232.2784      9.236     25.148      0.000     214.164     250.393\n",
      "medincome                 -42.6119      7.492     -5.688      0.000     -57.305     -27.918\n",
      "povertypercent             30.0725      7.874      3.819      0.000      14.630      45.515\n",
      "percentmarried              7.2181      4.915      1.469      0.142      -2.421      16.857\n",
      "pctprivatecoveragealone     0.2787      7.028      0.040      0.968     -13.505      14.062\n",
      "pctpubliccoveragealone     38.0682      7.755      4.909      0.000      22.859      53.277\n",
      "==============================================================================\n",
      "Omnibus:                       54.680   Durbin-Watson:                   2.020\n",
      "Prob(Omnibus):                  0.000   Jarque-Bera (JB):              129.508\n",
      "Skew:                           0.062   Prob(JB):                     7.54e-29\n",
      "Kurtosis:                       4.256   Cond. No.                         35.0\n",
      "==============================================================================\n",
      "\n",
      "Warnings:\n",
      "[1] Standard Errors assume that the covariance matrix of the errors is correctly specified.\n"
     ]
    }
   ],
   "source": [
    "X_train_trans = sm.add_constant(X_train_trans)\n",
    "mod = sm.OLS(y_train, df_X_train_trans, hasconst= True)\n",
    "res = mod.fit()\n",
    "print(res.summary())"
   ]
  },
  {
   "cell_type": "code",
   "execution_count": 47,
   "metadata": {},
   "outputs": [
    {
     "data": {
      "image/png": "[encoded data removed]",
      "text/plain": [
       "<Figure size 432x288 with 1 Axes>"
      ]
     },
     "metadata": {
      "needs_background": "light"
     },
     "output_type": "display_data"
    }
   ],
   "source": [
    "residuals = res.resid\n",
    "\n",
    "y_pred = res.predict(X_train_trans)\n",
    "plt.scatter(y_pred, residuals)\n",
    "plt.axhline(y=0, color = 'red', label = '0')\n",
    "\n",
    "plt.xlabel('predicted values')\n",
    "\n",
    "plt.ylabel('residuals')\n",
    "\n",
    "plt.tight_layout()"
   ]
  },
  {
   "cell_type": "markdown",
   "metadata": {},
   "source": [
    "https://www.cancer.org/content/dam/cancer-org/research/cancer-facts-and-statistics/annual-cancer-facts-and-figures/2020/cancer-facts-and-figures-2020.pdf"
   ]
  },
  {
   "cell_type": "code",
   "execution_count": null,
   "metadata": {},
   "outputs": [],
   "source": []
  }
 ],
 "metadata": {
  "kernelspec": {
   "display_name": "Python 3",
   "language": "python",
   "name": "python3"
  },
  "language_info": {
   "codemirror_mode": {
    "name": "ipython",
    "version": 3
   },
   "file_extension": ".py",
   "mimetype": "text/x-python",
   "name": "python",
   "nbconvert_exporter": "python",
   "pygments_lexer": "ipython3",
   "version": "3.7.3"
  }
 },
 "nbformat": 4,
 "nbformat_minor": 4
}
